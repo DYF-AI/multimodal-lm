{
 "cells": [
  {
   "cell_type": "code",
   "execution_count": 1,
   "metadata": {
    "collapsed": true
   },
   "outputs": [],
   "source": [
    "from pycorrector import GptCorrector, Corrector\n",
    "from pycorrector import MacBertCorrector"
   ]
  },
  {
   "cell_type": "code",
   "execution_count": 49,
   "outputs": [
    {
     "name": "stdout",
     "output_type": "stream",
     "text": [
      "['为全面落实《优化营商环境条例》，', '深化税收领域“放管服”改革，', '加大推广使用电子发票的力度，国家税务总局决定在前期宁波、', '石家庄和杭州等3个地区试点的基础上，在全国新设立登记的纳税人', '（以下简称“新办纳税人”）中实行增值税专用发票电子化（以下简称“专票电子化”）。现将有关事项公告如下：一、', '自2020年12月21日起，', '在天津、河北、上海、江苏、浙江、安徽、广东、重庆、四川、宁波和深圳等11个地区的新办纳税人中实行专票电子化，', '受票方范围为全国。', '其中，', '宁波、石家庄和杭州等3个地区已试点纳税人开具增值税电子专用发票（以下简称“电子专票”）', '的受票方范围扩至全国。', '自2021年1月21日起，', '在北京、山西、内蒙古、辽宁、吉林、', '黑龙江、福建、江西、', '山东、河南、湖北、湖南、广西、海南、贵州、', '云南、西藏、陕西、甘肃、青海、宁夏、新疆、大连、厦门和青岛', '等25个地区的新办纳税人中实行专票电子化，', '受票方范围为全国。', '实行专票电子化的新办纳税人具体范围由国家税务总局各省、', '自治区、直辖市和计划单列市税务局（以下简称“各省税务局”）确定。', '二、电子专票由各省税务局监制，采用电子签名代替发票专用章，', '属于增值税专用发票，', '其法律效力、基本用途、', '基本使用规定等与增值税纸质专用发票（以下简称“纸质专票”）相同。', '电子专票票样见附件。', '三、电子专票的发票代码为12位，', '编码规则：第1位为0，第2-5位代表省、自治区、', '直辖市和计划单列市，', '第6-7位代表年度，第8-10位代表批次，', '第11-12位为13。', '发票号码为8位，按年度、分批次编制。', '四、自各地专票电子化实行之日起，', '本地区需要开具增值税纸质普通发票、', '增值税电子普通发票（以下简称“电子普票”）、纸质专票、电子专票、纸质机动车销售统一发票', '和纸质二手车销售统一发票的新办纳税人，', '统一领取税务UKey开具发票。', '税务机关向新办纳税人免费发放税务UKey，', '并依托增值税电子发票公共服务平台，', '为纳税人提供免费的电子专票开具服务。\\n'] 39\n"
     ]
    }
   ],
   "source": [
    "text = \"\"\"玫票据监上海市医（疗庄院临贸寿据（电子）改范监明 票据号码：0089058283零报代鸡：31060222 统验码：cr9f42美款人统一社会信用代码：650102#本#8本**5620 开系日期：2022-10-31交款人张西远 金酒（元）务 项目名称 金额（元） 务注 项目名称 金额（元） 备注特日之称 319.50 诊察费189.00检查费 1.388.00床 便费 842.00 治疗 费，530.90 护理费157.00化装辑 3.565 50 西药售 20,757、836 其他住院费 700.00卫生材料费全国分计（大马，老万制柴值身拾训元肆角陆分 （小写）38.748.40业务流水号：916100s885病历号：101542：住院号：1019323 住院科别：腰瘤外科住院时间：20221024-20221 081 预缴金须：2000000 补做金领：7100：62 进费额：0.00床行机构快型：专科医院 医保类型：异地参保人员 医保编号：10441310性别：女医保统器基全支付：11617.84 其他支付：0.00 个大账户支付：6.00 个人现金或付：27100 62个八自付：5328.70 钟盗 包费：21771、92 附加基金支付：0.00 住院天数：7.00分类自质：406.39：4922,31 医保当年账户余领：204063 医保历年账房金领：0.00各注财政部全国财政中 多真据查验平 lp://pjcy.mof.gov.cn：医保流水号：22YD021015810052★ v批教单区食 闵行区所 子提专用章 符合人系统核验 收扶人100519\"\"\"\n",
    "\n",
    "#text = \"\"\"\n",
    "#为更好适应发票电子化改革需要 增值税电子专用发票采用电子签名代替原发票专用章 纳税人可以通过全国增值税发票查验平台下载增值税电子发票版式文件阅读器 查阅电子专票并验证电子签名的有效性\n",
    "#\"\"\"\n",
    "\n",
    "text = \"\"\"[9]： M 1 text Caat（9：”天津市胸料医院长期医嘱记录单 土姓名：新克功 性别：男 年龄：68岁 科室：床号：0病案号：830410起 始 停 正日期 时间幸医嘱口期时间恭车22 09- 15 16:15 陈永利 吴广蕾 心脏病护理常规 22-09-20 08.24 陈永利 吴广蓄22- 09-15 16:15 陈永利 猪昭彤 级护理（陪住 人） 1/日 22-09-16 10:52 陈永利 褚彤22-09-1516:15 陈永利 褚彤 低盐膳食 22-09-16 11:14 陈永利 楷昭彤22-09-1516:15 陈永利 吴广蓄 吸氧 必要时22-09-2008：24 陈永利 吴广蕾22-09-1516:15 陈永利 吴广蕾 心电监护（内科） 22-09-2008:24 陈永利 吴广蕾22-09-1516:15 陈永利 吴广蓄 呼吸监护 1/日 22-09-2008:2 4 陈水利 吴广蜜22 09 1516.15 陈永利 吴广蕾 面氧饱和度监测 22 09 2008:24 陈水利 吴广隆22- 09-1516:15 陈永利 褚昭影 血压监测 2/1 22-99-161 1:14 陈永利 楷昭彤22-09-15 16:15 陈永利 褚昭形 静脉输液 1/日 22-09- 19 09:01 陈永利 褚昭形22-09-1516:15 陈永利 吴广蓄 体温监测 2/日 22-09 2008:24 陈永利 吴广董22-09-15 16:16 陈永利 褚昭彤 5%葡萄糖注射液（大家袋装250 250m17静滴1/日 22-09-19/09:01 陈永利 褚昭彤22-09-15 16:16陈永利 褚昭彤 胰岛素注射液基]410 陈水利 褚昭彤22 09 15 16:16 陈永利 褚昭彤 氯化钾注射液（大家+ 0.53 陈永利 档蹈彤22-09-15 16:17陈水利昊广蓄 阿司匹林肠洛片[基] 0.1g □1服1/11 22-09-2008.24 陈水利 吴广常22- 09-1516.17 陈永利 吴广蕾 硫酸氢氯吡格雷片《赛诺菲）* 75ng □服1/日2209-2008：24 陈水利 吴厂嘴22-09-15 16.17 陈水利 吴厂蕾（国家集采）阿托伐他河钙片20mg 服1/晚 22-09-2008：24 陈永利 吴广22-09-1516:17 陈永利 吴厂蓄 雪贝拉唑钠肠溶片 （4410mg日服1/日22-09=20 08-24 陈永利 吴广蕾22 0915-1617 陈永利 猪昭彤 非洛地平缓释片（2 518）水[基2.5m8口服1/日 22-69-16 80260 陈水利 褚蹈彤22-09-1609507 陈永利 吴厂蕾 沙库巴曲颂沙担钠片*100m：日服1/日 22-09-2008：24 陈永利昊广蕾22 09-1610:52 陈永利 楷昭彤 一级护理 1/122-09-19 09:01 陈永利 褚昭彤22 09-1611:13 陈永利 国旭 病危 22- 09- 18 10:16 陈永利 国旭22-09-1611:13陈永利 国旭 半流质22-99-1810：16 陈永利 国旭22 09-1611-18 陈水利 国旭 血压监测 1/642209- 18 10=16 陈水利 国相22-09 1611：13陈水利 刘雨记出入量 22-09-18 22523陈水利 刘雨22-99-1616:45 陈永利 邵镇 血店监测 4/ 22-0906:57 杨丽 程凤22 09-1616:45 陈水利 邵琪 记介入患者护理记泵22-69-1706：57 杨丽 程风2-09-1616：45 陈永利 邵琪 记出量（介人木后）2-09-17 96857 杨丽 程风22=09-1617.16 陈水利 李新新 依潢肝常初注射液（40001U）本340004）皮下注1/12422-09-26 02:44 杨面 李新部22-09-16 617:10 陈水利李新新 肝季监护1/12122-09-20 ℃袋、杨雪金现268-1816.2 陈水利“美蓬 血压监测 2/ 22-09-202 24 陈外利 吴广置2 09- 1909101 陈水利 吴厂二级护理 □/22-09-2008：24 陈永利 吴广蓄\n",
    "\"\"\"\n",
    "\n",
    "text = \"\"\"为全面落实《优化营商环境条例》， 深化税收领域“放管服”改革， 加大推广使用电子发票的力度，国家税务总局决定在前期宁波、 石家庄和杭州等3个地区试点的基础上，在全国新设立登记的纳税人 （以下简称“新办纳税人”）中实行增值税专用发票电子化（以下简称“专票电子化”）。现将有关事项公告如下：一、 自2020年12月21日起， 在天津、河北、上海、江苏、浙江、安徽、广东、重庆、四川、宁波和深圳等11个地区的新办纳税人中实行专票电子化， 受票方范围为全国。 其中， 宁波、石家庄和杭州等3个地区已试点纳税人开具增值税电子专用发票（以下简称“电子专票”） 的受票方范围扩至全国。 自2021年1月21日起， 在北京、山西、内蒙古、辽宁、吉林、 黑龙江、福建、江西、 山东、河南、湖北、湖南、广西、海南、贵州、 云南、西藏、陕西、甘肃、青海、宁夏、新疆、大连、厦门和青岛 等25个地区的新办纳税人中实行专票电子化， 受票方范围为全国。 实行专票电子化的新办纳税人具体范围由国家税务总局各省、 自治区、直辖市和计划单列市税务局（以下简称“各省税务局”）确定。 二、电子专票由各省税务局监制，采用电子签名代替发票专用章， 属于增值税专用发票， 其法律效力、基本用途、 基本使用规定等与增值税纸质专用发票（以下简称“纸质专票”）相同。 电子专票票样见附件。 三、电子专票的发票代码为12位， 编码规则：第1位为0，第2-5位代表省、自治区、 直辖市和计划单列市， 第6-7位代表年度，第8-10位代表批次， 第11-12位为13。 发票号码为8位，按年度、分批次编制。 四、自各地专票电子化实行之日起， 本地区需要开具增值税纸质普通发票、 增值税电子普通发票（以下简称“电子普票”）、纸质专票、电子专票、纸质机动车销售统一发票 和纸质二手车销售统一发票的新办纳税人， 统一领取税务UKey开具发票。 税务机关向新办纳税人免费发放税务UKey， 并依托增值税电子发票公共服务平台， 为纳税人提供免费的电子专票开具服务。\n",
    "\"\"\"\n",
    "\n",
    "text_list = [t for t in text.split(\" \")]\n",
    "\n",
    "print(text_list, len(text_list))\n",
    "\n",
    "# text_list = ['2014/12/29（8岁）',\n",
    "#              '女性 未知 心宝率',\n",
    "#              '房间: 比间期 17 BPM 实性心率',\n",
    "#              '科室: 822 kS持续时间 86 正活心电图',\n",
    "#              'OT/0TC 358/434 ###2',\n",
    "#              'P-k-T 72 -42 大学男欢发',\n",
    "#              '技师: ', '用药: 检查提示:  检查报告', '转诊者',\n",
    "#              '诊制医生: 琳60724 1',\n",
    "#              '乙', '公', 'D', 'ID50006D10:2203/0700530 第1页/共页']\n",
    "\n",
    "text_list = ['检查报告-3',\n",
    "             '吉林大学第二医院',\n",
    "             '2ndHospitalofJ.L.U',\n",
    "             '放射科检查报告',\n",
    "            '检查号: DR1480523 检查方法：DR',\n",
    "            '姓名: 黄禹晨 性 别: 女 年龄：6',\n",
    "             '患者类型：住院 患者编号：01604782',\n",
    "            '科别：耳鼻咽喉头颈外科诊 病：粮料（舞户床号：22',\n",
    "            '疗中心（亚泰）',\n",
    "            '检查项目： [胸部正位，无]',\n",
    "            '检查方法及影像所见： ACCNO:23595737',\n",
    "            '双侧量性胸尊对称，双肺纹理增强，气管居中，心影不大，双侧助脑角説利。',\n",
    "            '诊断提示：'\n",
    "            '双肺纹理增强。']"
   ],
   "metadata": {
    "collapsed": false
   }
  },
  {
   "cell_type": "code",
   "execution_count": 24,
   "outputs": [],
   "source": [
    "def cal_text_score(correct_res):\n",
    "    # 如果仅仅考虑句子的修改率，对于句子数量少的波动很大\n",
    "    sentence_num = len(correct_res)+0.001\n",
    "    corrected_sentence_num = sum([1 for r in correct_res if len(r['errors']) > 0])\n",
    "    sentence_socre = 1-corrected_sentence_num / sentence_num\n",
    "\n",
    "    char_num =  sum([len(r['source']) for r in correct_res])+0.001\n",
    "    corrected_char_num = sum([len(r['errors']) for r in correct_res])\n",
    "    char_score = 1-corrected_char_num /  char_num\n",
    "\n",
    "    weight_score = (sentence_socre+char_score) / 2\n",
    "\n",
    "    return weight_score, sentence_socre, char_score"
   ],
   "metadata": {
    "collapsed": false
   }
  },
  {
   "cell_type": "markdown",
   "source": [
    "### 基于chatglm3-6b-lora的纠错模型\n",
    "- github:https://github.com/shibing624/pycorrector\n",
    "- huggingface: https://huggingface.co/shibing624/chatglm3-6b-csc-chinese-lora"
   ],
   "metadata": {
    "collapsed": false
   }
  },
  {
   "cell_type": "code",
   "execution_count": 4,
   "outputs": [
    {
     "name": "stderr",
     "output_type": "stream",
     "text": [
      "\u001B[32m2024-04-23 14:01:59.861\u001B[0m | \u001B[34m\u001B[1mDEBUG   \u001B[0m | \u001B[36mpycorrector.gpt.gpt_model\u001B[0m:\u001B[36m__init__\u001B[0m:\u001B[36m111\u001B[0m - \u001B[34m\u001B[1mDevice: cuda\u001B[0m\n"
     ]
    },
    {
     "data": {
      "text/plain": "Loading checkpoint shards:   0%|          | 0/7 [00:00<?, ?it/s]",
      "application/vnd.jupyter.widget-view+json": {
       "version_major": 2,
       "version_minor": 0,
       "model_id": "1d31c33de0794e82995417ac66dd77d8"
      }
     },
     "metadata": {},
     "output_type": "display_data"
    },
    {
     "name": "stderr",
     "output_type": "stream",
     "text": [
      "Setting eos_token is not supported, use the default one.\n",
      "Setting pad_token is not supported, use the default one.\n",
      "Setting unk_token is not supported, use the default one.\n",
      "\u001B[32m2024-04-23 14:02:10.111\u001B[0m | \u001B[1mINFO    \u001B[0m | \u001B[36mpycorrector.gpt.gpt_model\u001B[0m:\u001B[36mload_peft_model\u001B[0m:\u001B[36m192\u001B[0m - \u001B[1mLoaded peft model from M:/model/pycorrector/chatglm3-6b-csc-chinese-lora\u001B[0m\n",
      "\u001B[32m2024-04-23 14:02:10.113\u001B[0m | \u001B[34m\u001B[1mDEBUG   \u001B[0m | \u001B[36mpycorrector.gpt.gpt_corrector\u001B[0m:\u001B[36m__init__\u001B[0m:\u001B[36m34\u001B[0m - \u001B[34m\u001B[1mLoaded gpt csc model: M:/model/THUDM/chatglm3-6b, spend: 10.310 s.\u001B[0m\n"
     ]
    }
   ],
   "source": [
    "GLM3_6B = \"M:/model/THUDM/chatglm3-6b\"\n",
    "PEFT_NAME = \"M:/model/pycorrector/chatglm3-6b-csc-chinese-lora\"\n",
    "\n",
    "model_glm3 = GptCorrector(GLM3_6B, \"chatglm\", peft_name=PEFT_NAME)"
   ],
   "metadata": {
    "collapsed": false
   }
  },
  {
   "cell_type": "code",
   "execution_count": 50,
   "outputs": [
    {
     "name": "stderr",
     "output_type": "stream",
     "text": [
      "Generating outputs: 100%|██████████| 2/2 [00:04<00:00,  2.01s/it]\n"
     ]
    },
    {
     "data": {
      "text/plain": "([{'source': '检查报告-3', 'target': ' 检查报告-3', 'errors': []},\n  {'source': '吉林大学第二医院', 'target': ' 吉林大学第二医院', 'errors': []},\n  {'source': '2ndHospitalofJ.L.U',\n   'target': ' 2ndHospitalofJ.L.U',\n   'errors': []},\n  {'source': '放射科检查报告', 'target': ' 放射科检厂报告', 'errors': [('查', '厂', 4)]},\n  {'source': '检查号: DR1480523 检查方法：DR',\n   'target': ' 检验号:  DR1480523  检查方法：DR',\n   'errors': [('查', '验', 1)]},\n  {'source': '姓名: 黄禹晨 性 别: 女 年龄：6',\n   'target': ' 姓名:  黄禹晨  性  别:  女  年龄：6',\n   'errors': []},\n  {'source': '患者类型：住院 患者编号：01604782',\n   'target': ' 患者类型：住院  患者编号：01604782',\n   'errors': []},\n  {'source': '科别：耳鼻咽喉头颈外科诊 病：粮料（舞户床号：22',\n   'target': ' 科别：耳鼻咽喉头颈外科诊  病：粮料（病床床号：22',\n   'errors': [('舞', '病', 18), ('户', '', 19), ('', '床', 21)]},\n  {'source': '疗中心（亚泰）', 'target': ' 疗中心（亚泰）', 'errors': []},\n  {'source': '检查项目： [胸部正位，无]', 'target': ' 检查项目：  [胸部正位，无]', 'errors': []},\n  {'source': '检查方法及影像所见： ACCNO:23595737',\n   'target': ' 检查方法及影像所见：  ACCNO:23595737',\n   'errors': []},\n  {'source': '双侧量性胸尊对称，双肺纹理增强，气管居中，心影不大，双侧助脑角説利。',\n   'target': '双侧量性胸骨对称，双肺纹理增强，气管居中，心影不大，双侧助脑角诉利。',\n   'errors': [('尊', '骨', 5), ('説', '诉', 31)]},\n  {'source': '诊断提示：双肺纹理增强。', 'target': ' 诊断提示：双肺纹理增强。', 'errors': []}],\n 0.8301107073382125,\n 0.692331359126221,\n 0.9678900555502039)"
     },
     "execution_count": 50,
     "metadata": {},
     "output_type": "execute_result"
    }
   ],
   "source": [
    "#res = model.correct_batch([text])\n",
    "glm3_res = model_glm3.correct_batch(text_list)\n",
    "glm3_score, glm3_score_sen, glm3_score_char = cal_text_score(glm3_res)\n",
    "glm3_res, glm3_score, glm3_score_sen, glm3_score_char"
   ],
   "metadata": {
    "collapsed": false
   }
  },
  {
   "cell_type": "markdown",
   "source": [
    "### kenlm模型（统计模型）\n",
    "- pip install pypi-kenlm , pip install kenlm, 安装报错(可能是window VC问题)"
   ],
   "metadata": {
    "collapsed": false
   }
  },
  {
   "cell_type": "code",
   "execution_count": 6,
   "outputs": [
    {
     "name": "stdout",
     "output_type": "stream",
     "text": [
      "Looking in indexes: https://pypi.tuna.tsinghua.edu.cn/simple\n",
      "Collecting kenlm\n",
      "  Using cached https://pypi.tuna.tsinghua.edu.cn/packages/97/76/6a7479e3546d34ee46fc960c8d0ccf281f26ed18956d17f4ec5dcb1fa377/kenlm-0.2.0.tar.gz (427 kB)\n",
      "  Installing build dependencies: started\n",
      "  Installing build dependencies: finished with status 'done'\n",
      "  Getting requirements to build wheel: started\n",
      "  Getting requirements to build wheel: finished with status 'done'\n",
      "  Preparing metadata (pyproject.toml): started\n",
      "  Preparing metadata (pyproject.toml): finished with status 'done'\n",
      "Building wheels for collected packages: kenlm\n",
      "  Building wheel for kenlm (pyproject.toml): started\n",
      "  Building wheel for kenlm (pyproject.toml): finished with status 'error'\n",
      "Failed to build kenlm\n"
     ]
    },
    {
     "name": "stderr",
     "output_type": "stream",
     "text": [
      "  error: subprocess-exited-with-error\n",
      "  \n",
      "  Building wheel for kenlm (pyproject.toml) did not run successfully.\n",
      "  exit code: 1\n",
      "  \n",
      "  [98 lines of output]\n",
      "  鲖/T(uZ嗊b:gs^餝 \u0000W\u0000i\u0000n\u0000d\u0000o\u0000w\u0000s\u0000 \u0000烺齹v^nx軴(W \u0000B\u0000I\u0000O\u0000S\u0000 \u0000-N/T(uZ嗊b\u0016S\u00020\n",
      "  \u0000\n",
      "  \u0000\n",
      "  \u0000       gsQ酧o`\\xff鲖繈顣 \u0000h\u0000t\u0000t\u0000p\u0000s\u0000:\u0000/\u0000/\u0000a\u0000k\u0000a\u0000.\u0000m\u0000s\u0000/\u0000e\u0000n\u0000a\u0000b\u0000l\u0000e\u0000v\u0000i\u0000r\u0000t\u0000u\u0000a\u0000l\u0000i\u0000z\u0000a\u0000t\u0000i\u0000o\u0000n\u0000\n",
      "  \u0000\n",
      "  \u0000\n",
      "  \u0000鲖/T(uZ嗊b:gs^餝 \u0000W\u0000i\u0000n\u0000d\u0000o\u0000w\u0000s\u0000 \u0000烺齹v^nx軴(W \u0000B\u0000I\u0000O\u0000S\u0000 \u0000-N/T(uZ嗊b\u0016S\u00020\n",
      "  \u0000\n",
      "  \u0000\n",
      "  \u0000       gsQ酧o`\\xff鲖繈顣 \u0000h\u0000t\u0000t\u0000p\u0000s\u0000:\u0000/\u0000/\u0000a\u0000k\u0000a\u0000.\u0000m\u0000s\u0000/\u0000e\u0000n\u0000a\u0000b\u0000l\u0000e\u0000v\u0000i\u0000r\u0000t\u0000u\u0000a\u0000l\u0000i\u0000z\u0000a\u0000t\u0000i\u0000o\u0000n\u0000\n",
      "  \u0000\n",
      "  \u0000\n",
      "  \u0000鲖/T(uZ嗊b:gs^餝 \u0000W\u0000i\u0000n\u0000d\u0000o\u0000w\u0000s\u0000 \u0000烺齹v^nx軴(W \u0000B\u0000I\u0000O\u0000S\u0000 \u0000-N/T(uZ嗊b\u0016S\u00020\n",
      "  \u0000\n",
      "  \u0000\n",
      "  \u0000       gsQ酧o`\\xff鲖繈顣 \u0000h\u0000t\u0000t\u0000p\u0000s\u0000:\u0000/\u0000/\u0000a\u0000k\u0000a\u0000.\u0000m\u0000s\u0000/\u0000e\u0000n\u0000a\u0000b\u0000l\u0000e\u0000v\u0000i\u0000r\u0000t\u0000u\u0000a\u0000l\u0000i\u0000z\u0000a\u0000t\u0000i\u0000o\u0000n\u0000\n",
      "  \u0000\n",
      "  \u0000\n",
      "  \u0000Will build with KenLM max_order set to 6\n",
      "  running bdist_wheel\n",
      "  running build\n",
      "  running build_ext\n",
      "  -- Building for: Visual Studio 17 2022\n",
      "  CMake Deprecation Warning at CMakeLists.txt:1 (cmake_minimum_required):\n",
      "    Compatibility with CMake < 3.5 will be removed from a future version of\n",
      "    CMake.\n",
      "  \n",
      "    Update the VERSION argument <min> value or use a ...<max> suffix to tell\n",
      "    CMake that the project does not need compatibility with older versions.\n",
      "  \n",
      "  \n",
      "  -- Selecting Windows SDK version 10.0.19041.0 to target Windows 10.0.22621.\n",
      "  -- The C compiler identification is unknown\n",
      "  -- The CXX compiler identification is unknown\n",
      "  CMake Error at CMakeLists.txt:14 (project):\n",
      "    No CMAKE_C_COMPILER could be found.\n",
      "  \n",
      "  \n",
      "  \n",
      "  CMake Error at CMakeLists.txt:14 (project):\n",
      "    No CMAKE_CXX_COMPILER could be found.\n",
      "  \n",
      "  \n",
      "  \n",
      "  -- Configuring incomplete, errors occurred!\n",
      "  Traceback (most recent call last):\n",
      "    File \"D:\\ProgramData\\Anaconda3\\envs\\python312\\Lib\\site-packages\\pip\\_vendor\\pyproject_hooks\\_in_process\\_in_process.py\", line 353, in <module>\n",
      "      main()\n",
      "    File \"D:\\ProgramData\\Anaconda3\\envs\\python312\\Lib\\site-packages\\pip\\_vendor\\pyproject_hooks\\_in_process\\_in_process.py\", line 335, in main\n",
      "      json_out['return_val'] = hook(**hook_input['kwargs'])\n",
      "                               ^^^^^^^^^^^^^^^^^^^^^^^^^^^^\n",
      "    File \"D:\\ProgramData\\Anaconda3\\envs\\python312\\Lib\\site-packages\\pip\\_vendor\\pyproject_hooks\\_in_process\\_in_process.py\", line 251, in build_wheel\n",
      "      return _build_backend().build_wheel(wheel_directory, config_settings,\n",
      "             ^^^^^^^^^^^^^^^^^^^^^^^^^^^^^^^^^^^^^^^^^^^^^^^^^^^^^^^^^^^^^^\n",
      "    File \"C:\\Users\\21702\\AppData\\Local\\Temp\\pip-build-env-7mwyc_ly\\overlay\\Lib\\site-packages\\setuptools\\build_meta.py\", line 410, in build_wheel\n",
      "      return self._build_with_temp_dir(\n",
      "             ^^^^^^^^^^^^^^^^^^^^^^^^^^\n",
      "    File \"C:\\Users\\21702\\AppData\\Local\\Temp\\pip-build-env-7mwyc_ly\\overlay\\Lib\\site-packages\\setuptools\\build_meta.py\", line 395, in _build_with_temp_dir\n",
      "      self.run_setup()\n",
      "    File \"C:\\Users\\21702\\AppData\\Local\\Temp\\pip-build-env-7mwyc_ly\\overlay\\Lib\\site-packages\\setuptools\\build_meta.py\", line 487, in run_setup\n",
      "      super().run_setup(setup_script=setup_script)\n",
      "    File \"C:\\Users\\21702\\AppData\\Local\\Temp\\pip-build-env-7mwyc_ly\\overlay\\Lib\\site-packages\\setuptools\\build_meta.py\", line 311, in run_setup\n",
      "      exec(code, locals())\n",
      "    File \"<string>\", line 124, in <module>\n",
      "    File \"C:\\Users\\21702\\AppData\\Local\\Temp\\pip-build-env-7mwyc_ly\\overlay\\Lib\\site-packages\\setuptools\\__init__.py\", line 104, in setup\n",
      "      return distutils.core.setup(**attrs)\n",
      "             ^^^^^^^^^^^^^^^^^^^^^^^^^^^^^\n",
      "    File \"C:\\Users\\21702\\AppData\\Local\\Temp\\pip-build-env-7mwyc_ly\\overlay\\Lib\\site-packages\\setuptools\\_distutils\\core.py\", line 184, in setup\n",
      "      return run_commands(dist)\n",
      "             ^^^^^^^^^^^^^^^^^^\n",
      "    File \"C:\\Users\\21702\\AppData\\Local\\Temp\\pip-build-env-7mwyc_ly\\overlay\\Lib\\site-packages\\setuptools\\_distutils\\core.py\", line 200, in run_commands\n",
      "      dist.run_commands()\n",
      "    File \"C:\\Users\\21702\\AppData\\Local\\Temp\\pip-build-env-7mwyc_ly\\overlay\\Lib\\site-packages\\setuptools\\_distutils\\dist.py\", line 969, in run_commands\n",
      "      self.run_command(cmd)\n",
      "    File \"C:\\Users\\21702\\AppData\\Local\\Temp\\pip-build-env-7mwyc_ly\\overlay\\Lib\\site-packages\\setuptools\\dist.py\", line 967, in run_command\n",
      "      super().run_command(command)\n",
      "    File \"C:\\Users\\21702\\AppData\\Local\\Temp\\pip-build-env-7mwyc_ly\\overlay\\Lib\\site-packages\\setuptools\\_distutils\\dist.py\", line 988, in run_command\n",
      "      cmd_obj.run()\n",
      "    File \"C:\\Users\\21702\\AppData\\Local\\Temp\\pip-build-env-7mwyc_ly\\overlay\\Lib\\site-packages\\wheel\\bdist_wheel.py\", line 368, in run\n",
      "      self.run_command(\"build\")\n",
      "    File \"C:\\Users\\21702\\AppData\\Local\\Temp\\pip-build-env-7mwyc_ly\\overlay\\Lib\\site-packages\\setuptools\\_distutils\\cmd.py\", line 316, in run_command\n",
      "      self.distribution.run_command(command)\n",
      "    File \"C:\\Users\\21702\\AppData\\Local\\Temp\\pip-build-env-7mwyc_ly\\overlay\\Lib\\site-packages\\setuptools\\dist.py\", line 967, in run_command\n",
      "      super().run_command(command)\n",
      "    File \"C:\\Users\\21702\\AppData\\Local\\Temp\\pip-build-env-7mwyc_ly\\overlay\\Lib\\site-packages\\setuptools\\_distutils\\dist.py\", line 988, in run_command\n",
      "      cmd_obj.run()\n",
      "    File \"C:\\Users\\21702\\AppData\\Local\\Temp\\pip-build-env-7mwyc_ly\\overlay\\Lib\\site-packages\\setuptools\\_distutils\\command\\build.py\", line 132, in run\n",
      "      self.run_command(cmd_name)\n",
      "    File \"C:\\Users\\21702\\AppData\\Local\\Temp\\pip-build-env-7mwyc_ly\\overlay\\Lib\\site-packages\\setuptools\\_distutils\\cmd.py\", line 316, in run_command\n",
      "      self.distribution.run_command(command)\n",
      "    File \"C:\\Users\\21702\\AppData\\Local\\Temp\\pip-build-env-7mwyc_ly\\overlay\\Lib\\site-packages\\setuptools\\dist.py\", line 967, in run_command\n",
      "      super().run_command(command)\n",
      "    File \"C:\\Users\\21702\\AppData\\Local\\Temp\\pip-build-env-7mwyc_ly\\overlay\\Lib\\site-packages\\setuptools\\_distutils\\dist.py\", line 988, in run_command\n",
      "      cmd_obj.run()\n",
      "    File \"<string>\", line 104, in run\n",
      "    File \"D:\\ProgramData\\Anaconda3\\envs\\python312\\Lib\\subprocess.py\", line 413, in check_call\n",
      "      raise CalledProcessError(retcode, cmd)\n",
      "  subprocess.CalledProcessError: Command '['cmake', 'C:\\\\Users\\\\21702\\\\AppData\\\\Local\\\\Temp\\\\pip-install-6enluplm\\\\kenlm_caf738f555d246e9a76a9965b6c3603d', '-DCMAKE_LIBRARY_OUTPUT_DIRECTORY=C:\\\\Users\\\\21702\\\\AppData\\\\Local\\\\Temp\\\\pip-install-6enluplm\\\\kenlm_caf738f555d246e9a76a9965b6c3603d\\\\build\\\\lib.win-amd64-cpython-312', '-DBUILD_SHARED_LIBS=ON', '-DBUILD_PYTHON_STANDALONE=ON', '-DKENLM_MAX_ORDER=6', '-DCMAKE_WINDOWS_EXPORT_ALL_SYMBOLS=ON', '-DCMAKE_RUNTIME_OUTPUT_DIRECTORY_RELEASE=C:\\\\Users\\\\21702\\\\AppData\\\\Local\\\\Temp\\\\pip-install-6enluplm\\\\kenlm_caf738f555d246e9a76a9965b6c3603d\\\\build\\\\lib.win-amd64-cpython-312', '-DCMAKE_LIBRARY_OUTPUT_DIRECTORY_RELEASE=C:\\\\Users\\\\21702\\\\AppData\\\\Local\\\\Temp\\\\pip-install-6enluplm\\\\kenlm_caf738f555d246e9a76a9965b6c3603d\\\\build\\\\lib.win-amd64-cpython-312', '-DCMAKE_ARCHIVE_OUTPUT_DIRECTORY_RELEASE=C:\\\\Users\\\\21702\\\\AppData\\\\Local\\\\Temp\\\\pip-install-6enluplm\\\\kenlm_caf738f555d246e9a76a9965b6c3603d\\\\build\\\\lib.win-amd64-cpython-312', '-A', 'x64']' returned non-zero exit status 1.\n",
      "  [end of output]\n",
      "  \n",
      "  note: This error originates from a subprocess, and is likely not a problem with pip.\n",
      "  ERROR: Failed building wheel for kenlm\n",
      "ERROR: Could not build wheels for kenlm, which is required to install pyproject.toml-based projects\n"
     ]
    }
   ],
   "source": [
    "!pip install kenlm\n",
    "model_kenlm = Corrector()"
   ],
   "metadata": {
    "collapsed": false
   }
  },
  {
   "cell_type": "code",
   "execution_count": 5,
   "outputs": [
    {
     "ename": "ImportError",
     "evalue": "pycorrector dependencies are not fully installed, they are required for statistical language model.Please use \"pip install kenlm\" to install it.if you are Win, Please install kenlm in cgwin.",
     "output_type": "error",
     "traceback": [
      "\u001B[1;31m---------------------------------------------------------------------------\u001B[0m",
      "\u001B[1;31mModuleNotFoundError\u001B[0m                       Traceback (most recent call last)",
      "File \u001B[1;32mD:\\ProgramData\\Anaconda3\\envs\\python312\\Lib\\site-packages\\pycorrector\\detector.py:96\u001B[0m, in \u001B[0;36mDetector._initialize_detector\u001B[1;34m(self)\u001B[0m\n\u001B[0;32m     95\u001B[0m \u001B[38;5;28;01mtry\u001B[39;00m:\n\u001B[1;32m---> 96\u001B[0m     \u001B[38;5;28;01mimport\u001B[39;00m \u001B[38;5;21;01mkenlm\u001B[39;00m\n\u001B[0;32m     97\u001B[0m \u001B[38;5;28;01mexcept\u001B[39;00m \u001B[38;5;167;01mImportError\u001B[39;00m:\n",
      "\u001B[1;31mModuleNotFoundError\u001B[0m: No module named 'kenlm'",
      "\nDuring handling of the above exception, another exception occurred:\n",
      "\u001B[1;31mImportError\u001B[0m                               Traceback (most recent call last)",
      "Cell \u001B[1;32mIn[5], line 2\u001B[0m\n\u001B[0;32m      1\u001B[0m \u001B[38;5;28;01mtry\u001B[39;00m:\n\u001B[1;32m----> 2\u001B[0m     res \u001B[38;5;241m=\u001B[39m \u001B[43mmodel_kenlm\u001B[49m\u001B[38;5;241;43m.\u001B[39;49m\u001B[43mcorrect_batch\u001B[49m\u001B[43m(\u001B[49m\u001B[43mtext_list\u001B[49m\u001B[43m)\u001B[49m\n\u001B[0;32m      3\u001B[0m \u001B[38;5;28;01mexcept\u001B[39;00m \u001B[38;5;167;01mRuntimeError\u001B[39;00m \u001B[38;5;28;01mas\u001B[39;00m e:\n\u001B[0;32m      4\u001B[0m     get_ipython()\u001B[38;5;241m.\u001B[39msystem(\u001B[38;5;124m'\u001B[39m\u001B[38;5;124mpip install kenlm\u001B[39m\u001B[38;5;124m'\u001B[39m)\n",
      "File \u001B[1;32mD:\\ProgramData\\Anaconda3\\envs\\python312\\Lib\\site-packages\\pycorrector\\corrector.py:327\u001B[0m, in \u001B[0;36mCorrector.correct_batch\u001B[1;34m(self, sentences, **kwargs)\u001B[0m\n\u001B[0;32m    320\u001B[0m \u001B[38;5;28;01mdef\u001B[39;00m \u001B[38;5;21mcorrect_batch\u001B[39m(\u001B[38;5;28mself\u001B[39m, sentences: List[\u001B[38;5;28mstr\u001B[39m], \u001B[38;5;241m*\u001B[39m\u001B[38;5;241m*\u001B[39mkwargs):\n\u001B[0;32m    321\u001B[0m \u001B[38;5;250m    \u001B[39m\u001B[38;5;124;03m\"\"\"\u001B[39;00m\n\u001B[0;32m    322\u001B[0m \u001B[38;5;124;03m    批量句子纠错\u001B[39;00m\n\u001B[0;32m    323\u001B[0m \u001B[38;5;124;03m    :param sentences: 句子文本列表\u001B[39;00m\n\u001B[0;32m    324\u001B[0m \u001B[38;5;124;03m    :param kwargs: 其他参数\u001B[39;00m\n\u001B[0;32m    325\u001B[0m \u001B[38;5;124;03m    :return: list of {'source': 'src', 'target': 'trg', 'errors': [(error_word, correct_word, position), ...]}\u001B[39;00m\n\u001B[0;32m    326\u001B[0m \u001B[38;5;124;03m    \"\"\"\u001B[39;00m\n\u001B[1;32m--> 327\u001B[0m     \u001B[38;5;28;01mreturn\u001B[39;00m [\u001B[38;5;28;43mself\u001B[39;49m\u001B[38;5;241;43m.\u001B[39;49m\u001B[43mcorrect\u001B[49m\u001B[43m(\u001B[49m\u001B[43ms\u001B[49m\u001B[43m,\u001B[49m\u001B[43m \u001B[49m\u001B[38;5;241;43m*\u001B[39;49m\u001B[38;5;241;43m*\u001B[39;49m\u001B[43mkwargs\u001B[49m\u001B[43m)\u001B[49m \u001B[38;5;28;01mfor\u001B[39;00m s \u001B[38;5;129;01min\u001B[39;00m sentences]\n",
      "File \u001B[1;32mD:\\ProgramData\\Anaconda3\\envs\\python312\\Lib\\site-packages\\pycorrector\\corrector.py:288\u001B[0m, in \u001B[0;36mCorrector.correct\u001B[1;34m(self, sentence, include_symbol, num_fragment, threshold, **kwargs)\u001B[0m\n\u001B[0;32m    285\u001B[0m short_sents \u001B[38;5;241m=\u001B[39m split_text_into_sentences_by_symbol(sentence, include_symbol\u001B[38;5;241m=\u001B[39minclude_symbol)\n\u001B[0;32m    286\u001B[0m \u001B[38;5;28;01mfor\u001B[39;00m sent, idx \u001B[38;5;129;01min\u001B[39;00m short_sents:\n\u001B[0;32m    287\u001B[0m     \u001B[38;5;66;03m# 检错\u001B[39;00m\n\u001B[1;32m--> 288\u001B[0m     maybe_errors, proper_details \u001B[38;5;241m=\u001B[39m \u001B[38;5;28;43mself\u001B[39;49m\u001B[38;5;241;43m.\u001B[39;49m\u001B[43m_detect\u001B[49m\u001B[43m(\u001B[49m\u001B[43msent\u001B[49m\u001B[43m,\u001B[49m\u001B[43m \u001B[49m\u001B[43midx\u001B[49m\u001B[43m,\u001B[49m\u001B[43m \u001B[49m\u001B[38;5;241;43m*\u001B[39;49m\u001B[38;5;241;43m*\u001B[39;49m\u001B[43mkwargs\u001B[49m\u001B[43m)\u001B[49m\n\u001B[0;32m    289\u001B[0m     \u001B[38;5;28;01mfor\u001B[39;00m cur_item, begin_idx, end_idx, err_type \u001B[38;5;129;01min\u001B[39;00m maybe_errors:\n\u001B[0;32m    290\u001B[0m         \u001B[38;5;66;03m# 纠错，逐个处理\u001B[39;00m\n\u001B[0;32m    291\u001B[0m         before_sent \u001B[38;5;241m=\u001B[39m sent[:(begin_idx \u001B[38;5;241m-\u001B[39m idx)]\n",
      "File \u001B[1;32mD:\\ProgramData\\Anaconda3\\envs\\python312\\Lib\\site-packages\\pycorrector\\detector.py:397\u001B[0m, in \u001B[0;36mDetector._detect\u001B[1;34m(self, sentence, start_idx, **kwargs)\u001B[0m\n\u001B[0;32m    395\u001B[0m maybe_errors \u001B[38;5;241m=\u001B[39m []\n\u001B[0;32m    396\u001B[0m \u001B[38;5;66;03m# 初始化\u001B[39;00m\n\u001B[1;32m--> 397\u001B[0m \u001B[38;5;28;43mself\u001B[39;49m\u001B[38;5;241;43m.\u001B[39;49m\u001B[43mcheck_detector_initialized\u001B[49m\u001B[43m(\u001B[49m\u001B[43m)\u001B[49m\n\u001B[0;32m    398\u001B[0m \u001B[38;5;66;03m# 1. 自定义混淆集加入疑似错误词典\u001B[39;00m\n\u001B[0;32m    399\u001B[0m \u001B[38;5;28;01mfor\u001B[39;00m confuse \u001B[38;5;129;01min\u001B[39;00m \u001B[38;5;28mself\u001B[39m\u001B[38;5;241m.\u001B[39mcustom_confusion:\n",
      "File \u001B[1;32mD:\\ProgramData\\Anaconda3\\envs\\python312\\Lib\\site-packages\\pycorrector\\detector.py:151\u001B[0m, in \u001B[0;36mDetector.check_detector_initialized\u001B[1;34m(self)\u001B[0m\n\u001B[0;32m    149\u001B[0m \u001B[38;5;28;01mdef\u001B[39;00m \u001B[38;5;21mcheck_detector_initialized\u001B[39m(\u001B[38;5;28mself\u001B[39m):\n\u001B[0;32m    150\u001B[0m     \u001B[38;5;28;01mif\u001B[39;00m \u001B[38;5;129;01mnot\u001B[39;00m \u001B[38;5;28mself\u001B[39m\u001B[38;5;241m.\u001B[39minitialized_detector:\n\u001B[1;32m--> 151\u001B[0m         \u001B[38;5;28;43mself\u001B[39;49m\u001B[38;5;241;43m.\u001B[39;49m\u001B[43m_initialize_detector\u001B[49m\u001B[43m(\u001B[49m\u001B[43m)\u001B[49m\n",
      "File \u001B[1;32mD:\\ProgramData\\Anaconda3\\envs\\python312\\Lib\\site-packages\\pycorrector\\detector.py:98\u001B[0m, in \u001B[0;36mDetector._initialize_detector\u001B[1;34m(self)\u001B[0m\n\u001B[0;32m     96\u001B[0m     \u001B[38;5;28;01mimport\u001B[39;00m \u001B[38;5;21;01mkenlm\u001B[39;00m\n\u001B[0;32m     97\u001B[0m \u001B[38;5;28;01mexcept\u001B[39;00m \u001B[38;5;167;01mImportError\u001B[39;00m:\n\u001B[1;32m---> 98\u001B[0m     \u001B[38;5;28;01mraise\u001B[39;00m \u001B[38;5;167;01mImportError\u001B[39;00m(\n\u001B[0;32m     99\u001B[0m         \u001B[38;5;124m'\u001B[39m\u001B[38;5;124mpycorrector dependencies are not fully installed, \u001B[39m\u001B[38;5;124m'\u001B[39m\n\u001B[0;32m    100\u001B[0m         \u001B[38;5;124m'\u001B[39m\u001B[38;5;124mthey are required for statistical language model.\u001B[39m\u001B[38;5;124m'\u001B[39m\n\u001B[0;32m    101\u001B[0m         \u001B[38;5;124m'\u001B[39m\u001B[38;5;124mPlease use \u001B[39m\u001B[38;5;124m\"\u001B[39m\u001B[38;5;124mpip install kenlm\u001B[39m\u001B[38;5;124m\"\u001B[39m\u001B[38;5;124m to install it.\u001B[39m\u001B[38;5;124m'\u001B[39m\n\u001B[0;32m    102\u001B[0m         \u001B[38;5;124m'\u001B[39m\u001B[38;5;124mif you are Win, Please install kenlm in cgwin.\u001B[39m\u001B[38;5;124m'\u001B[39m\n\u001B[0;32m    103\u001B[0m     )\n\u001B[0;32m    104\u001B[0m \u001B[38;5;28;01mif\u001B[39;00m \u001B[38;5;129;01mnot\u001B[39;00m os\u001B[38;5;241m.\u001B[39mpath\u001B[38;5;241m.\u001B[39mexists(\u001B[38;5;28mself\u001B[39m\u001B[38;5;241m.\u001B[39mlanguage_model_path):\n\u001B[0;32m    105\u001B[0m     filename \u001B[38;5;241m=\u001B[39m \u001B[38;5;28mself\u001B[39m\u001B[38;5;241m.\u001B[39mpretrained_language_models\u001B[38;5;241m.\u001B[39mget(\n\u001B[0;32m    106\u001B[0m         \u001B[38;5;28mself\u001B[39m\u001B[38;5;241m.\u001B[39mlanguage_model_path, \u001B[38;5;124m'\u001B[39m\u001B[38;5;124mzh_giga.no_cna_cmn.prune01244.klm\u001B[39m\u001B[38;5;124m'\u001B[39m\n\u001B[0;32m    107\u001B[0m     )\n",
      "\u001B[1;31mImportError\u001B[0m: pycorrector dependencies are not fully installed, they are required for statistical language model.Please use \"pip install kenlm\" to install it.if you are Win, Please install kenlm in cgwin."
     ]
    }
   ],
   "source": [
    "res = model_kenlm.correct_batch(text_list)\n"
   ],
   "metadata": {
    "collapsed": false
   }
  },
  {
   "cell_type": "markdown",
   "source": [
    "### MacBert4CSC模型\n",
    "- huggingface: https://huggingface.co/shibing624/macbert4csc-base-chinese"
   ],
   "metadata": {
    "collapsed": false
   }
  },
  {
   "cell_type": "code",
   "execution_count": 26,
   "outputs": [
    {
     "name": "stderr",
     "output_type": "stream",
     "text": [
      "\u001B[32m2024-04-23 14:17:53.879\u001B[0m | \u001B[34m\u001B[1mDEBUG   \u001B[0m | \u001B[36mpycorrector.macbert.macbert_corrector\u001B[0m:\u001B[36m__init__\u001B[0m:\u001B[36m30\u001B[0m - \u001B[34m\u001B[1mUse device: cuda\u001B[0m\n",
      "\u001B[32m2024-04-23 14:17:53.881\u001B[0m | \u001B[34m\u001B[1mDEBUG   \u001B[0m | \u001B[36mpycorrector.macbert.macbert_corrector\u001B[0m:\u001B[36m__init__\u001B[0m:\u001B[36m31\u001B[0m - \u001B[34m\u001B[1mLoaded macbert4csc model: M:/model/pycorrector/macbert4csc-base-chinese, spend: 0.595 s.\u001B[0m\n"
     ]
    }
   ],
   "source": [
    "MAC_BERT_CSC = \"M:/model/pycorrector/macbert4csc-base-chinese\"\n",
    "model_mac_bert = MacBertCorrector(MAC_BERT_CSC)"
   ],
   "metadata": {
    "collapsed": false
   }
  },
  {
   "cell_type": "code",
   "execution_count": 51,
   "outputs": [
    {
     "data": {
      "text/plain": "([{'source': '检查报告-3', 'target': '检查报告-3', 'errors': []},\n  {'source': '吉林大学第二医院', 'target': '吉林大学第二医院', 'errors': []},\n  {'source': '2ndHospitalofJ.L.U',\n   'target': '2ndHospitalofJ.L.U',\n   'errors': []},\n  {'source': '放射科检查报告', 'target': '放射科检查报告', 'errors': []},\n  {'source': '检查号: DR1480523 检查方法：DR',\n   'target': '检查号: DR1480523 检查方法：DRdrdr查查检查方法：DR',\n   'errors': []},\n  {'source': '姓名: 黄禹晨 性 别: 女 年龄：6',\n   'target': '姓名: 黄禹晨 性 别: 女 年龄：6 年龄：6',\n   'errors': []},\n  {'source': '患者类型：住院 患者编号：01604782',\n   'target': '患者类型：住院 患者编号：0160478282。病病0患782',\n   'errors': []},\n  {'source': '科别：耳鼻咽喉头颈外科诊 病：粮料（舞户床号：22',\n   'target': '科别：耳鼻咽喉头颈外科诊 病：粮料（舞舞床号：222）',\n   'errors': [('户', '舞', 19)]},\n  {'source': '疗中心（亚泰）', 'target': '疗中心（亚泰）', 'errors': []},\n  {'source': '检查项目： [胸部正位，无]', 'target': '检查项目： [胸部正位，无]]', 'errors': []},\n  {'source': '检查方法及影像所见： ACCNO:23595737',\n   'target': '检查方法及影像所见： ACCNO:23595737。。摄图。35957--',\n   'errors': []},\n  {'source': '双侧量性胸尊对称，双肺纹理增强，气管居中，心影不大，双侧助脑角説利。',\n   'target': '双侧量性胸廓对称，双肺纹理增强，气管居中，心影不大，双侧助脑角説利。',\n   'errors': [('尊', '廓', 5)]},\n  {'source': '诊断提示：双肺纹理增强。', 'target': '诊断提示：双肺纹理增强。', 'errors': []}],\n 0.9184957048601559,\n 0.8461656795631105,\n 0.9908257301572011)"
     },
     "execution_count": 51,
     "metadata": {},
     "output_type": "execute_result"
    }
   ],
   "source": [
    "mac_bert_res = model_mac_bert.correct_batch(text_list)\n",
    "mac_bert_score, mac_bert_score_sen, mac_bert_score_char = cal_text_score(mac_bert_res)\n",
    "mac_bert_res, mac_bert_score, mac_bert_score_sen, mac_bert_score_char"
   ],
   "metadata": {
    "collapsed": false
   }
  },
  {
   "cell_type": "code",
   "execution_count": 13,
   "outputs": [],
   "source": [],
   "metadata": {
    "collapsed": false
   }
  },
  {
   "cell_type": "markdown",
   "source": [
    "### T5模型"
   ],
   "metadata": {
    "collapsed": false
   }
  },
  {
   "cell_type": "code",
   "execution_count": 8,
   "outputs": [
    {
     "name": "stderr",
     "output_type": "stream",
     "text": [
      "\u001B[32m2024-04-23 14:03:27.011\u001B[0m | \u001B[34m\u001B[1mDEBUG   \u001B[0m | \u001B[36mpycorrector.t5.t5_corrector\u001B[0m:\u001B[36m__init__\u001B[0m:\u001B[36m30\u001B[0m - \u001B[34m\u001B[1mDevice: cuda\u001B[0m\n",
      "\u001B[32m2024-04-23 14:03:27.012\u001B[0m | \u001B[34m\u001B[1mDEBUG   \u001B[0m | \u001B[36mpycorrector.t5.t5_corrector\u001B[0m:\u001B[36m__init__\u001B[0m:\u001B[36m31\u001B[0m - \u001B[34m\u001B[1mLoaded t5 correction model: M:/model/pycorrector/mengzi-t5-base-chinese-correction, spend: 1.826 s.\u001B[0m\n"
     ]
    }
   ],
   "source": [
    "from pycorrector import T5Corrector\n",
    "T5_PATH = \"M:/model/pycorrector/mengzi-t5-base-chinese-correction\"\n",
    "model_t5 = T5Corrector(T5_PATH)"
   ],
   "metadata": {
    "collapsed": false
   }
  },
  {
   "cell_type": "code",
   "execution_count": 52,
   "outputs": [
    {
     "data": {
      "text/plain": "([{'source': '检查报告-3', 'target': '检查报告-3', 'errors': []},\n  {'source': '吉林大学第二医院', 'target': '吉林大学第二医院', 'errors': []},\n  {'source': '2ndHospitalofJ.L.U',\n   'target': '2ndHospitalofJ.L.',\n   'errors': []},\n  {'source': '放射科检查报告', 'target': '放射科检查报告', 'errors': []},\n  {'source': '检查号: DR1480523 检查方法：DR',\n   'target': '检查号: DR1480523 检查方法：DR',\n   'errors': []},\n  {'source': '姓名: 黄禹晨 性 别: 女 年龄：6',\n   'target': '姓名: 黄禹晨 性 别: 女 年龄：6',\n   'errors': []},\n  {'source': '患者类型：住院 患者编号：01604782',\n   'target': '患者类型：住院 患者编号：01604782',\n   'errors': []},\n  {'source': '科别：耳鼻咽喉头颈外科诊 病：粮料（舞户床号：22',\n   'target': '科别：耳鼻咽喉头颈外科诊 病：粮料（舞户床号：22',\n   'errors': []},\n  {'source': '疗中心（亚泰）', 'target': '疗中心（亚泰）', 'errors': []},\n  {'source': '检查项目： [胸部正位，无]', 'target': '检查项目： [胸部正位，无]', 'errors': []},\n  {'source': '检查方法及影像所见： ACCNO:23595737',\n   'target': '检查方法及影像所见： ACCNO:2359573',\n   'errors': []},\n  {'source': '双侧量性胸尊对称，双肺纹理增强，气管居中，心影不大，双侧助脑角説利。',\n   'target': '双侧量性胸尊对称，双肺纹路增强，气管居中，心影不大，双侧助脑角讲利。',\n   'errors': [('理', '路', 12), ('説', '讲', 31)]},\n  {'source': '诊断提示：双肺纹理增强。',\n   'target': '诊断图示：双肺纹路增强。',\n   'errors': [('提', '图', 2), ('理', '路', 8)]}],\n 0.9139085699387564,\n 0.8461656795631105,\n 0.9816514603144022)"
     },
     "execution_count": 52,
     "metadata": {},
     "output_type": "execute_result"
    }
   ],
   "source": [
    "t5_res = model_t5.correct_batch(text_list)\n",
    "t5_score, t5_score_sen, t5_score_char= cal_text_score(t5_res)\n",
    "t5_res, t5_score, t5_score_sen, t5_score_char"
   ],
   "metadata": {
    "collapsed": false
   }
  },
  {
   "cell_type": "code",
   "execution_count": null,
   "outputs": [],
   "source": [],
   "metadata": {
    "collapsed": false
   }
  }
 ],
 "metadata": {
  "kernelspec": {
   "display_name": "Python 3",
   "language": "python",
   "name": "python3"
  },
  "language_info": {
   "codemirror_mode": {
    "name": "ipython",
    "version": 2
   },
   "file_extension": ".py",
   "mimetype": "text/x-python",
   "name": "python",
   "nbconvert_exporter": "python",
   "pygments_lexer": "ipython2",
   "version": "2.7.6"
  }
 },
 "nbformat": 4,
 "nbformat_minor": 0
}
