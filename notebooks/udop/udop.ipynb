{
 "cells": [
  {
   "cell_type": "markdown",
   "source": [
    "# udop模型"
   ],
   "metadata": {
    "collapsed": false
   }
  },
  {
   "cell_type": "code",
   "execution_count": 1,
   "outputs": [
    {
     "ename": "KeyError",
     "evalue": "'models.udop'",
     "output_type": "error",
     "traceback": [
      "\u001B[1;31m---------------------------------------------------------------------------\u001B[0m",
      "\u001B[1;31mKeyError\u001B[0m                                  Traceback (most recent call last)",
      "Cell \u001B[1;32mIn [1], line 1\u001B[0m\n\u001B[1;32m----> 1\u001B[0m \u001B[38;5;28;01mfrom\u001B[39;00m \u001B[38;5;21;01mtransformers\u001B[39;00m \u001B[38;5;28;01mimport\u001B[39;00m AutoProcessor, UdopForConditionalGeneration\n\u001B[0;32m      2\u001B[0m \u001B[38;5;28;01mfrom\u001B[39;00m \u001B[38;5;21;01mdatasets\u001B[39;00m \u001B[38;5;28;01mimport\u001B[39;00m load_dataset\n",
      "File \u001B[1;32mD:\\ProgramData\\Anaconda3\\envs\\torch\\lib\\site-packages\\transformers\\__init__.py:3719\u001B[0m\n\u001B[0;32m   3698\u001B[0m _import_structure[\u001B[38;5;124m\"\u001B[39m\u001B[38;5;124mmodels.yolos\u001B[39m\u001B[38;5;124m\"\u001B[39m]\u001B[38;5;241m.\u001B[39mextend(\n\u001B[0;32m   3699\u001B[0m     [\n\u001B[0;32m   3700\u001B[0m         \u001B[38;5;124m\"\u001B[39m\u001B[38;5;124mYOLOS_PRETRAINED_MODEL_ARCHIVE_LIST\u001B[39m\u001B[38;5;124m\"\u001B[39m,\n\u001B[1;32m   (...)\u001B[0m\n\u001B[0;32m   3704\u001B[0m     ]\n\u001B[0;32m   3705\u001B[0m )\n\u001B[0;32m   3706\u001B[0m _import_structure[\u001B[38;5;124m\"\u001B[39m\u001B[38;5;124mmodels.yoso\u001B[39m\u001B[38;5;124m\"\u001B[39m]\u001B[38;5;241m.\u001B[39mextend(\n\u001B[0;32m   3707\u001B[0m     [\n\u001B[0;32m   3708\u001B[0m         \u001B[38;5;124m\"\u001B[39m\u001B[38;5;124mYOSO_PRETRAINED_MODEL_ARCHIVE_LIST\u001B[39m\u001B[38;5;124m\"\u001B[39m,\n\u001B[1;32m   (...)\u001B[0m\n\u001B[0;32m   3717\u001B[0m     ]\n\u001B[0;32m   3718\u001B[0m )\n\u001B[1;32m-> 3719\u001B[0m \u001B[43m_import_structure\u001B[49m\u001B[43m[\u001B[49m\u001B[38;5;124;43m\"\u001B[39;49m\u001B[38;5;124;43mmodels.udop\u001B[39;49m\u001B[38;5;124;43m\"\u001B[39;49m\u001B[43m]\u001B[49m\u001B[38;5;241m.\u001B[39mextend(\n\u001B[0;32m   3720\u001B[0m     [\n\u001B[0;32m   3721\u001B[0m         \u001B[38;5;124m\"\u001B[39m\u001B[38;5;124mUDOP_PRETRAINED_MODEL_ARCHIVE_LIST\u001B[39m\u001B[38;5;124m\"\u001B[39m,\n\u001B[0;32m   3722\u001B[0m         \u001B[38;5;124m\"\u001B[39m\u001B[38;5;124mUdopEncoderModel\u001B[39m\u001B[38;5;124m\"\u001B[39m,\n\u001B[0;32m   3723\u001B[0m         \u001B[38;5;124m\"\u001B[39m\u001B[38;5;124mUdopForConditionalGeneration\u001B[39m\u001B[38;5;124m\"\u001B[39m,\n\u001B[0;32m   3724\u001B[0m         \u001B[38;5;124m\"\u001B[39m\u001B[38;5;124mUdopModel\u001B[39m\u001B[38;5;124m\"\u001B[39m,\n\u001B[0;32m   3725\u001B[0m         \u001B[38;5;124m\"\u001B[39m\u001B[38;5;124mUdopPreTrainedModel\u001B[39m\u001B[38;5;124m\"\u001B[39m,\n\u001B[0;32m   3726\u001B[0m     ],\n\u001B[0;32m   3727\u001B[0m )\n\u001B[0;32m   3728\u001B[0m _import_structure[\u001B[38;5;124m\"\u001B[39m\u001B[38;5;124moptimization\u001B[39m\u001B[38;5;124m\"\u001B[39m] \u001B[38;5;241m=\u001B[39m [\n\u001B[0;32m   3729\u001B[0m     \u001B[38;5;124m\"\u001B[39m\u001B[38;5;124mAdafactor\u001B[39m\u001B[38;5;124m\"\u001B[39m,\n\u001B[0;32m   3730\u001B[0m     \u001B[38;5;124m\"\u001B[39m\u001B[38;5;124mAdamW\u001B[39m\u001B[38;5;124m\"\u001B[39m,\n\u001B[1;32m   (...)\u001B[0m\n\u001B[0;32m   3738\u001B[0m     \u001B[38;5;124m\"\u001B[39m\u001B[38;5;124mget_scheduler\u001B[39m\u001B[38;5;124m\"\u001B[39m,\n\u001B[0;32m   3739\u001B[0m ]\n\u001B[0;32m   3740\u001B[0m _import_structure[\u001B[38;5;124m\"\u001B[39m\u001B[38;5;124mpytorch_utils\u001B[39m\u001B[38;5;124m\"\u001B[39m] \u001B[38;5;241m=\u001B[39m [\n\u001B[0;32m   3741\u001B[0m     \u001B[38;5;124m\"\u001B[39m\u001B[38;5;124mConv1D\u001B[39m\u001B[38;5;124m\"\u001B[39m,\n\u001B[0;32m   3742\u001B[0m     \u001B[38;5;124m\"\u001B[39m\u001B[38;5;124mapply_chunking_to_forward\u001B[39m\u001B[38;5;124m\"\u001B[39m,\n\u001B[0;32m   3743\u001B[0m     \u001B[38;5;124m\"\u001B[39m\u001B[38;5;124mprune_layer\u001B[39m\u001B[38;5;124m\"\u001B[39m,\n\u001B[0;32m   3744\u001B[0m ]\n",
      "\u001B[1;31mKeyError\u001B[0m: 'models.udop'"
     ]
    }
   ],
   "source": [
    "from transformers import AutoProcessor, UdopForConditionalGeneration\n",
    "from datasets import load_dataset"
   ],
   "metadata": {
    "collapsed": false
   }
  },
  {
   "cell_type": "code",
   "execution_count": null,
   "outputs": [],
   "source": [],
   "metadata": {
    "collapsed": false
   }
  }
 ],
 "metadata": {
  "kernelspec": {
   "display_name": "Python 3",
   "language": "python",
   "name": "python3"
  },
  "language_info": {
   "codemirror_mode": {
    "name": "ipython",
    "version": 2
   },
   "file_extension": ".py",
   "mimetype": "text/x-python",
   "name": "python",
   "nbconvert_exporter": "python",
   "pygments_lexer": "ipython2",
   "version": "2.7.6"
  }
 },
 "nbformat": 4,
 "nbformat_minor": 0
}
