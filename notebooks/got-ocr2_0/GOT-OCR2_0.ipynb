{
 "cells": [
  {
   "cell_type": "code",
   "execution_count": 1,
   "metadata": {},
   "outputs": [],
   "source": [
    "from modelscope import AutoModel, AutoTokenizer"
   ]
  },
  {
   "cell_type": "code",
   "execution_count": 2,
   "metadata": {
    "collapsed": false,
    "jupyter": {
     "outputs_hidden": false
    }
   },
   "outputs": [],
   "source": [
    "model_path =\"/mnt/n/model/ocr-pretrain-model/GOT-OCR2_0\"\n",
    "\n",
    "tokenizer = AutoTokenizer.from_pretrained(model_path, trust_remote_code=True)\n",
    "model = AutoModel.from_pretrained(model_path, trust_remote_code=True, low_cpu_mem_usage=True, device_map='cuda', use_safetensors=True, pad_token_id=tokenizer.eos_token_id)\n",
    "model = model.eval().cuda()"
   ]
  },
  {
   "cell_type": "code",
   "execution_count": 11,
   "metadata": {
    "collapsed": false,
    "jupyter": {
     "outputs_hidden": false
    }
   },
   "outputs": [
    {
     "name": "stderr",
     "output_type": "stream",
     "text": [
      "The attention mask and the pad token id were not set. As a consequence, you may observe unexpected behavior. Please pass your input's `attention_mask` to obtain reliable results.\n",
      "Setting `pad_token_id` to `eos_token_id`:None for open-end generation.\n"
     ]
    },
    {
     "name": "stdout",
     "output_type": "stream",
     "text": [
      "前 奏 00:00 由长笛主奏。\n",
      "主 歌 00:12 主唱用带有鼻音、滑音、真假声转换的山区民歌唱法唱出主歌。注意伴奏中对 位声部的出现。\n",
      "副 歌 00:51 加人和声声部。\n",
      "间 奏 01:31 由长笛奏出带有炫技的华彩乐段。\n",
      "第 二 段 01:13\n",
      "副 歌 01:51 加人铃鼓的伴奏。\n",
      "间 奏 02:10 由电吉他奏出炫技的华彩段落, 注意切分节奏。\n",
      "副 歌 02:30 加人铃鼓伴奏。\n",
      "副歌重复 02:50 只用掌声与打击乐伴奏。\n",
      "继续反复 03:09 伴奏乐器逐渐加人。\n",
      "尾 声 03:30 由电吉他奏出。\n",
      "\\section{摇滚乐}\n",
      "\\section{伤 心 旅 馆}\n",
      "[美] 埃尔维斯・普雷斯利 词曲\n",
      "\\section{听赏指南}\n",
      "摇滚乐是美国布鲁斯音乐与乡村音乐融合产生出的一种节奏感强烈的音乐。通常由一人或数 人演唱，每位乐手以能自弹、自唱、自编、自演为荣。\n",
      "关注歌曲中的节奏衬拍（小节中除重拍以外的弱拍）以及一拍中细分为二至三个的拍点，有 很强的摇晃感。\n",
      "关注低音的线条。\n",
      "你所了解的摇滚乐队演奏形式和特点:\n",
      "\\(1=C \\frac{4}{4}\\)\n",
      "(0.77) \\(\\left|\\left|\\frac{i}{i}\\right| \\frac{i}{i}\\right| \\quad \\mathrm{i} \\quad \\mathrm{I} \\quad \\mathrm{I} \\quad \\mathrm{I} \\quad \\mathrm{i} \\quad \\mathrm{I} \\quad \\mathrm{i} \\quad \\mathrm{J} \\quad \\mathrm{i} \\quad \\mathrm{i} \\quad \\mathrm{i} \\quad \\mathrm{I} \\quad \\mathrm{I}\\) 5 7 7.5\n",
      "Now since my ba - by left me, - I've found a new place to dwell, \\(\\left.\\left.\\frac{1}{i} \\frac{1}{i} \\frac{1}{i} \\frac{1}{i}\\right|_{i} \\frac{1}{i} \\frac{1}{i} \\frac{3}{3} \\frac{1}{3} \\frac{3}{3} \\frac{1}{3} \\frac{1}{i} \\frac{1}{i} \\frac{1}{} \\frac{5}{5} \\frac{7}{7} \\frac{1}{1} \\frac{1}{1} \\frac{1}{1} \\frac{1}{} \\frac{5}{5} \\frac{4}{4} \\frac{1}{4} \\frac{1}{4} \\frac{1}{1} \\frac{1}{1} \\frac{11}{1} \\frac{1}{1} \\frac{1}{1} \\mathrm{I} \\mathrm{I}\\)\n",
      "Down at the end of lone- ly st - reet, at Heart - break Ho - tel, I'm lone - ly\n"
     ]
    }
   ],
   "source": [
    "# input your test image\n",
    "# 拍照图片效果一般\n",
    "image_file = '/mnt/n/data/mllm-data/mllm-pretrain-data/test/crawler-data-保单材料/4034970a304e251f09afcb5da686c9177f3e533e.jpg'\n",
    "# 课本pdf图片, 有错别字但是能较好处理多列段落数据\n",
    "image_file = '/mnt/n/data/mllm-data/mllm-pretrain-data/test/image-book/（2003）美术鉴赏【公众号“电子课本大全”免费分享】_30.jpg'\n",
    "image_file = '/mnt/n/data/mllm-data/mllm-pretrain-data/test/image-book/（2019版）必修 音乐鉴赏（网络版）【公众号“电子课本大全”免费分享】_133.jpg'\n",
    "\n",
    "# plain texts OCR\n",
    "#res = model.chat(tokenizer, image_file, ocr_type='ocr')\n",
    "\n",
    "# format texts OCR:\n",
    "res = model.chat(tokenizer, image_file, ocr_type='format')\n",
    "\n",
    "# fine-grained OCR:\n",
    "# res = model.chat(tokenizer, image_file, ocr_type='ocr', ocr_box='')\n",
    "# res = model.chat(tokenizer, image_file, ocr_type='format', ocr_box='')\n",
    "# res = model.chat(tokenizer, image_file, ocr_type='ocr', ocr_color='')\n",
    "# res = model.chat(tokenizer, image_file, ocr_type='format', ocr_color='')\n",
    "\n",
    "# multi-crop OCR:\n",
    "# res = model.chat_crop(tokenizer, image_file, ocr_type='ocr')\n",
    "# res = model.chat_crop(tokenizer, image_file, ocr_type='format')\n",
    "\n",
    "# render the formatted OCR results:\n",
    "# res = model.chat(tokenizer, image_file, ocr_type='format', render=True, save_render_file = './demo.html')\n",
    "\n",
    "print(res)"
   ]
  },
  {
   "cell_type": "code",
   "execution_count": null,
   "metadata": {},
   "outputs": [],
   "source": []
  }
 ],
 "metadata": {
  "kernelspec": {
   "display_name": "Python 3 (ipykernel)",
   "language": "python",
   "name": "python3"
  },
  "language_info": {
   "codemirror_mode": {
    "name": "ipython",
    "version": 3
   },
   "file_extension": ".py",
   "mimetype": "text/x-python",
   "name": "python",
   "nbconvert_exporter": "python",
   "pygments_lexer": "ipython3",
   "version": "3.9.0"
  }
 },
 "nbformat": 4,
 "nbformat_minor": 4
}
