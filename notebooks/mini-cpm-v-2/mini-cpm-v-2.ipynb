{
 "cells": [
  {
   "cell_type": "code",
   "execution_count": null,
   "metadata": {
    "collapsed": true
   },
   "outputs": [],
   "source": [
    "import torch\n",
    "from PIL import Image\n",
    "from transformers import AutoModel, AutoTokenizer"
   ]
  },
  {
   "cell_type": "code",
   "execution_count": null,
   "outputs": [],
   "source": [
    "MP = 'N:/model/openbmb/MiniCPM-V-2'\n",
    "\n",
    "model = AutoModel.from_pretrained(MP, trust_remote_code=True, torch_dtype=torch.bfloat16)\n",
    "# For Nvidia GPUs support BF16 (like A100, H100, RTX3090)\n",
    "model = model.to(device='cuda', dtype=torch.bfloat16)\n",
    "# For Nvidia GPUs do NOT support BF16 (like V100, T4, RTX2080)\n",
    "#model = model.to(device='cuda', dtype=torch.float16)\n",
    "# For Mac with MPS (Apple silicon or AMD GPUs).\n",
    "# Run with `PYTORCH_ENABLE_MPS_FALLBACK=1 python test.py`\n",
    "#model = model.to(device='mps', dtype=torch.float16)\n",
    "\n",
    "tokenizer = AutoTokenizer.from_pretrained(MP, trust_remote_code=True)\n",
    "model.eval()\n"
   ],
   "metadata": {
    "collapsed": false
   }
  },
  {
   "cell_type": "code",
   "execution_count": null,
   "outputs": [],
   "source": [
    "image_file = \"N:/dataset/增值税发票/image/b3.jpg\"\n",
    "\n",
    "image = Image.open(image_file).convert('RGB')\n",
    "#question = 'What is in the image?'\n",
    "question = '请问购买方是？'\n",
    "msgs = [{'role': 'user', 'content': question}]\n",
    "\n",
    "res, context, _ = model.chat(\n",
    "    image=image,\n",
    "    msgs=msgs,\n",
    "    context=None,\n",
    "    tokenizer=tokenizer,\n",
    "    sampling=True,\n",
    "    temperature=0.7\n",
    ")\n",
    "print(res)"
   ],
   "metadata": {
    "collapsed": false
   }
  },
  {
   "cell_type": "code",
   "execution_count": null,
   "outputs": [],
   "source": [],
   "metadata": {
    "collapsed": false
   }
  }
 ],
 "metadata": {
  "kernelspec": {
   "display_name": "Python 3",
   "language": "python",
   "name": "python3"
  },
  "language_info": {
   "codemirror_mode": {
    "name": "ipython",
    "version": 2
   },
   "file_extension": ".py",
   "mimetype": "text/x-python",
   "name": "python",
   "nbconvert_exporter": "python",
   "pygments_lexer": "ipython2",
   "version": "2.7.6"
  }
 },
 "nbformat": 4,
 "nbformat_minor": 0
}
