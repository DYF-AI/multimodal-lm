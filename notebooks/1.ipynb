{
 "cells": [
  {
   "cell_type": "code",
   "execution_count": 2,
   "metadata": {
    "collapsed": true
   },
   "outputs": [
    {
     "data": {
      "text/plain": "0.35714285714285715"
     },
     "execution_count": 2,
     "metadata": {},
     "output_type": "execute_result"
    }
   ],
   "source": [
    "import difflib\n",
    "\n",
    "\n",
    "def string_similar(s1, s2):\n",
    "    return difflib.SequenceMatcher(None, s1, s2).quick_ratio()\n",
    "\n",
    "s1 = \"小学数学课堂教学就是教师和学生在一定的时间内完成的数学教与学的任务，因而数学课堂效率是教师一直关注并执着追求的目标\"\n",
    "#s2 = \"数学课堂教学活动,使学生在数学上有提高,有进步,有收获。它是衡量课堂教学实效的一个重要指标。向课堂要效率是我们教师一直关注并执着追求的目标\"\n",
    "s2 = \"小学课堂教学是指在小学阶段，教师通过一系列有组织的活动和教学策略，向学生传授知识、培养能力、促进素质发展的过程\"\n",
    "\n",
    "string_similar(s1, s2)"
   ]
  },
  {
   "cell_type": "code",
   "execution_count": null,
   "outputs": [],
   "source": [],
   "metadata": {
    "collapsed": false
   }
  }
 ],
 "metadata": {
  "kernelspec": {
   "display_name": "Python 3",
   "language": "python",
   "name": "python3"
  },
  "language_info": {
   "codemirror_mode": {
    "name": "ipython",
    "version": 2
   },
   "file_extension": ".py",
   "mimetype": "text/x-python",
   "name": "python",
   "nbconvert_exporter": "python",
   "pygments_lexer": "ipython2",
   "version": "2.7.6"
  }
 },
 "nbformat": 4,
 "nbformat_minor": 0
}
