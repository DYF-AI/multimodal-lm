{
 "cells": [
  {
   "cell_type": "markdown",
   "source": [
    "## 数据增强"
   ],
   "metadata": {
    "collapsed": false
   }
  },
  {
   "cell_type": "code",
   "execution_count": 3,
   "outputs": [],
   "source": [],
   "metadata": {
    "collapsed": false
   }
  },
  {
   "cell_type": "code",
   "execution_count": 4,
   "outputs": [],
   "source": [
    "import os\n",
    "import random\n",
    "from PIL import Image\n",
    "\n",
    "def place_images_on_large_canvas(images, canvas_size=(1280, 1280), min_gap=2, max_gap=5):\n",
    "    # 初始化一个空的画布\n",
    "    canvas_width, canvas_height = canvas_size\n",
    "    canvas = Image.new('RGB', canvas_size, (255, 255, 255))  # 创建一个白色背景的画布\n",
    "    x_offset, y_offset = 0, 0  # 当前插入小图的坐标\n",
    "    current_row_height = 0  # 当前行的最大高度，用于决定y方向的偏移\n",
    "\n",
    "    # 结果图列表\n",
    "    all_canvases = [canvas]  # 用来存储大图列表\n",
    "\n",
    "    # 遍历所有小图\n",
    "    for image in images:\n",
    "        image_width, image_height = image.size\n",
    "\n",
    "        # 随机生成横向和纵向间距\n",
    "        gap_x = random.randint(min_gap, max_gap)  # x方向的间距\n",
    "        gap_y = random.randint(min_gap, max_gap)  # y方向的间距\n",
    "\n",
    "        # 判断当前小图是否能够放入当前的画布\n",
    "        if x_offset + image_width + gap_x > canvas_width:  # 换行\n",
    "            x_offset = 0\n",
    "            y_offset += current_row_height + gap_y  # y方向加上当前行的最大高度和间距\n",
    "            current_row_height = 0  # 重置当前行的最大高度\n",
    "\n",
    "            # 检查新的一行是否能放得下\n",
    "            if y_offset + image_height + gap_y > canvas_height:  # 如果当前大图放不下\n",
    "                new_canvas = Image.new('RGB', canvas_size, (255, 255, 255))  # 创建新画布\n",
    "                all_canvases.append(new_canvas)  # 添加新大图\n",
    "                canvas = new_canvas  # 更新当前画布\n",
    "                y_offset = 0  # 重置y坐标\n",
    "\n",
    "        # 如果当前图放不下，跳过\n",
    "        if y_offset + image_height + gap_y > canvas_height:\n",
    "            continue\n",
    "\n",
    "        # 将小图粘贴到当前画布上\n",
    "        canvas.paste(image, (x_offset, y_offset))\n",
    "\n",
    "        # 更新坐标，考虑横向和纵向的间距\n",
    "        x_offset += image_width + gap_x  # 更新x坐标，考虑横向间距\n",
    "        current_row_height = max(current_row_height, image_height)  # 更新当前行的最大高度\n",
    "\n",
    "    return all_canvases\n",
    "\n",
    "# 示例使用\n",
    "if __name__ == \"__main__\":\n",
    "    # 假设images是包含所有小图的列表\n",
    "    source_images_dir = \"./source\"\n",
    "    images = [Image.open(os.path.join(source_images_dir,file_path)) for file_path in os.listdir(source_images_dir)]\n",
    "\n",
    "    canvases = place_images_on_large_canvas(images)\n",
    "\n",
    "    # 保存所有生成的图像\n",
    "    for idx, canvas in enumerate(canvases):\n",
    "        canvas.save(f\"output/output_{idx}.png\")\n",
    "\n"
   ],
   "metadata": {
    "collapsed": false
   }
  },
  {
   "cell_type": "code",
   "execution_count": null,
   "outputs": [],
   "source": [],
   "metadata": {
    "collapsed": false
   }
  }
 ],
 "metadata": {
  "kernelspec": {
   "display_name": "Python 3",
   "language": "python",
   "name": "python3"
  },
  "language_info": {
   "codemirror_mode": {
    "name": "ipython",
    "version": 2
   },
   "file_extension": ".py",
   "mimetype": "text/x-python",
   "name": "python",
   "nbconvert_exporter": "python",
   "pygments_lexer": "ipython2",
   "version": "2.7.6"
  }
 },
 "nbformat": 4,
 "nbformat_minor": 0
}
