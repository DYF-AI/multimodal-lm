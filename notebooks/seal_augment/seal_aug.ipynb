{
 "cells": [
  {
   "cell_type": "markdown",
   "source": [
    "## 数据增强"
   ],
   "metadata": {
    "collapsed": false
   }
  },
  {
   "cell_type": "code",
   "execution_count": 7,
   "outputs": [],
   "source": [
    "import os\n",
    "import random\n",
    "\n",
    "from PIL import Image\n",
    "\n",
    "def place_images_on_large_canvas(images, canvas_size=(1280, 1280), min_gap=2, max_gap=5):\n",
    "    # 初始化一个空的画布\n",
    "    canvas_width, canvas_height = canvas_size\n",
    "    canvas = Image.new('RGB', canvas_size, (255, 255, 255))  # 创建一个白色背景的画布\n",
    "    x_offset, y_offset = 0, 0  # 当前插入小图的坐标\n",
    "    # 结果图列表\n",
    "    all_canvases = [canvas]  # 用来存储大图列表\n",
    "    # 遍历所有小图\n",
    "    for image in images:\n",
    "        image_width, image_height = image.size\n",
    "        # 随机生成间距\n",
    "        gap = random.randint(min_gap, max_gap)\n",
    "        # 如果当前小图放不下，创建新的大图并重置坐标\n",
    "        if x_offset + image_width + gap > canvas_width:  # 换行\n",
    "            x_offset = 0\n",
    "            y_offset += image_height + gap\n",
    "            if y_offset + image_height + gap > canvas_height:  # 换到新的大图\n",
    "                new_canvas = Image.new('RGB', canvas_size, (255, 255, 255))\n",
    "                all_canvases.append(new_canvas)  # 添加新的大图\n",
    "                canvas = new_canvas\n",
    "                y_offset = 0  # 重置y坐标\n",
    "        if y_offset + image_height + gap > canvas_height:\n",
    "            continue  # 当前图无法放下，跳过\n",
    "\n",
    "        # 将小图粘贴到当前画布上\n",
    "        canvas.paste(image, (x_offset, y_offset))\n",
    "        x_offset += image_width + gap  # 更新x坐标，考虑间距\n",
    "\n",
    "    return all_canvases\n",
    "\n",
    "# 示例使用\n",
    "if __name__ == \"__main__\":\n",
    "    # 假设images是包含所有小图的列表\n",
    "    source_images_dir = \"./source\"\n",
    "    images = [Image.open(os.path.join(source_images_dir,file_path)) for file_path in os.listdir(source_images_dir)]\n",
    "\n",
    "    canvases = place_images_on_large_canvas(images)\n",
    "\n",
    "    # 保存所有生成的图像\n",
    "    for idx, canvas in enumerate(canvases):\n",
    "        canvas.save(f\"output/output_{idx}.png\")\n"
   ],
   "metadata": {
    "collapsed": false
   }
  },
  {
   "cell_type": "code",
   "execution_count": null,
   "outputs": [],
   "source": [],
   "metadata": {
    "collapsed": false
   }
  }
 ],
 "metadata": {
  "kernelspec": {
   "display_name": "Python 3",
   "language": "python",
   "name": "python3"
  },
  "language_info": {
   "codemirror_mode": {
    "name": "ipython",
    "version": 2
   },
   "file_extension": ".py",
   "mimetype": "text/x-python",
   "name": "python",
   "nbconvert_exporter": "python",
   "pygments_lexer": "ipython2",
   "version": "2.7.6"
  }
 },
 "nbformat": 4,
 "nbformat_minor": 0
}
