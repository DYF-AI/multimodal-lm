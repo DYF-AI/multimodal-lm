{
 "cells": [
  {
   "cell_type": "code",
   "execution_count": 9,
   "metadata": {
    "collapsed": true
   },
   "outputs": [],
   "source": [
    "import json\n",
    "import os\n",
    "import shutil\n",
    "from modelscope import MsDataset\n",
    "from modelscope.msdatasets import MsDataset\n",
    "from tqdm import tqdm\n",
    "from swift.llm.utils.dataset import _remove_useless_columns, DATASET_MAPPING\n"
   ]
  },
  {
   "cell_type": "code",
   "execution_count": 2,
   "outputs": [
    {
     "name": "stderr",
     "output_type": "stream",
     "text": [
      "/home/dongyongfei786/miniconda3/envs/py39/lib/python3.9/site-packages/datasets/builder.py:885: FutureWarning: 'try_from_hf_gcs' was deprecated in version 2.16.0 and will be removed in 3.0.0.\n",
      "  warnings.warn(\n",
      "[INFO:modelscope] Downloading to /mnt/n/data/coco_2014_grounding/cache/downloads/304193504820b3cd5591986b94102b2e9dc7a163e02f4a6097ab99f7898dc1a2.incomplete\n"
     ]
    },
    {
     "data": {
      "text/plain": "Downloading data: 0.00B [00:00, ?B/s]",
      "application/vnd.jupyter.widget-view+json": {
       "version_major": 2,
       "version_minor": 0,
       "model_id": "e32557b2b4b645288b7433d8a2635a9b"
      }
     },
     "metadata": {},
     "output_type": "display_data"
    },
    {
     "name": "stderr",
     "output_type": "stream",
     "text": [
      "[INFO:modelscope] storing https://www.modelscope.cn/api/v1/datasets/swift/refcoco/repo?Source=SDK&Revision=master&FilePath=data%2Ftrain-00000-of-00001-94431d5f4bd5b93f.parquet in cache at /mnt/n/data/coco_2014_grounding/cache/downloads/304193504820b3cd5591986b94102b2e9dc7a163e02f4a6097ab99f7898dc1a2\n",
      "[INFO:modelscope] creating metadata file for /mnt/n/data/coco_2014_grounding/cache/downloads/304193504820b3cd5591986b94102b2e9dc7a163e02f4a6097ab99f7898dc1a2\n",
      "[INFO:modelscope] Downloading to /mnt/n/data/coco_2014_grounding/cache/downloads/a670ed38eac9338e62d23b7cace7ecb78ac64b44017b0b83ed10a7e373a3d2cf.incomplete\n"
     ]
    },
    {
     "data": {
      "text/plain": "Downloading data: 0.00B [00:00, ?B/s]",
      "application/vnd.jupyter.widget-view+json": {
       "version_major": 2,
       "version_minor": 0,
       "model_id": "f4ceb8107ac34bfcb308bca1ae533e5e"
      }
     },
     "metadata": {},
     "output_type": "display_data"
    },
    {
     "name": "stderr",
     "output_type": "stream",
     "text": [
      "[INFO:modelscope] storing https://www.modelscope.cn/api/v1/datasets/swift/refcoco/repo?Source=SDK&Revision=master&FilePath=data%2Fvalidation-00000-of-00001-bfeafdc84ca37aa2.parquet in cache at /mnt/n/data/coco_2014_grounding/cache/downloads/a670ed38eac9338e62d23b7cace7ecb78ac64b44017b0b83ed10a7e373a3d2cf\n",
      "[INFO:modelscope] creating metadata file for /mnt/n/data/coco_2014_grounding/cache/downloads/a670ed38eac9338e62d23b7cace7ecb78ac64b44017b0b83ed10a7e373a3d2cf\n",
      "[INFO:modelscope] Downloading to /mnt/n/data/coco_2014_grounding/cache/downloads/08f7aabb9f69a74cba8f90fbe522c28e0a80d9573644f130901348413c3607d4.incomplete\n"
     ]
    },
    {
     "data": {
      "text/plain": "Downloading data: 0.00B [00:00, ?B/s]",
      "application/vnd.jupyter.widget-view+json": {
       "version_major": 2,
       "version_minor": 0,
       "model_id": "469e64f3f4744e4f8f7138d3b5d16e6b"
      }
     },
     "metadata": {},
     "output_type": "display_data"
    },
    {
     "name": "stderr",
     "output_type": "stream",
     "text": [
      "[INFO:modelscope] storing https://www.modelscope.cn/api/v1/datasets/swift/refcoco/repo?Source=SDK&Revision=master&FilePath=data%2Ftest-00000-of-00001-82af0c1b600890ac.parquet in cache at /mnt/n/data/coco_2014_grounding/cache/downloads/08f7aabb9f69a74cba8f90fbe522c28e0a80d9573644f130901348413c3607d4\n",
      "[INFO:modelscope] creating metadata file for /mnt/n/data/coco_2014_grounding/cache/downloads/08f7aabb9f69a74cba8f90fbe522c28e0a80d9573644f130901348413c3607d4\n",
      "[INFO:modelscope] Downloading to /mnt/n/data/coco_2014_grounding/cache/downloads/11adfecdfc84e92ed65b56ac75e143c35c174a3d2419f49e8a2288e0c3859a5d.incomplete\n"
     ]
    },
    {
     "data": {
      "text/plain": "Downloading data: 0.00B [00:00, ?B/s]",
      "application/vnd.jupyter.widget-view+json": {
       "version_major": 2,
       "version_minor": 0,
       "model_id": "1b5f0844dd8647aab59cd461fcbf3a4e"
      }
     },
     "metadata": {},
     "output_type": "display_data"
    },
    {
     "name": "stderr",
     "output_type": "stream",
     "text": [
      "[INFO:modelscope] storing https://www.modelscope.cn/api/v1/datasets/swift/refcoco/repo?Source=SDK&Revision=master&FilePath=data%2FtestB-00000-of-00001-60990e4598892dc1.parquet in cache at /mnt/n/data/coco_2014_grounding/cache/downloads/11adfecdfc84e92ed65b56ac75e143c35c174a3d2419f49e8a2288e0c3859a5d\n",
      "[INFO:modelscope] creating metadata file for /mnt/n/data/coco_2014_grounding/cache/downloads/11adfecdfc84e92ed65b56ac75e143c35c174a3d2419f49e8a2288e0c3859a5d\n"
     ]
    },
    {
     "data": {
      "text/plain": "Generating train split:   0%|          | 0/42404 [00:00<?, ? examples/s]",
      "application/vnd.jupyter.widget-view+json": {
       "version_major": 2,
       "version_minor": 0,
       "model_id": "3157101449a446d48c2659790a015a08"
      }
     },
     "metadata": {},
     "output_type": "display_data"
    },
    {
     "data": {
      "text/plain": "Generating validation split:   0%|          | 0/3811 [00:00<?, ? examples/s]",
      "application/vnd.jupyter.widget-view+json": {
       "version_major": 2,
       "version_minor": 0,
       "model_id": "7598f9d885064a3db61284d503e18619"
      }
     },
     "metadata": {},
     "output_type": "display_data"
    },
    {
     "data": {
      "text/plain": "Generating test split:   0%|          | 0/1975 [00:00<?, ? examples/s]",
      "application/vnd.jupyter.widget-view+json": {
       "version_major": 2,
       "version_minor": 0,
       "model_id": "c25b19fbbe564184a8663020f6f1632c"
      }
     },
     "metadata": {},
     "output_type": "display_data"
    },
    {
     "data": {
      "text/plain": "Generating testB split:   0%|          | 0/1810 [00:00<?, ? examples/s]",
      "application/vnd.jupyter.widget-view+json": {
       "version_major": 2,
       "version_minor": 0,
       "model_id": "7c3d07b20f4241b89040cd037d554a4f"
      }
     },
     "metadata": {},
     "output_type": "display_data"
    }
   ],
   "source": [
    "ds =  MsDataset.load('swift/refcoco', cache_dir=\"/mnt/n/data/coco_2014_grounding/cache\")\n",
    "dataset_name = 'refcoco-unofficial-grounding'\n",
    "dataset_info = DATASET_MAPPING[dataset_name]\n",
    "preprocess_func = dataset_info['preprocess_func']\n",
    "streaming = False\n",
    "remove_useless_columns = True"
   ],
   "metadata": {
    "collapsed": false
   }
  },
  {
   "cell_type": "code",
   "execution_count": 15,
   "outputs": [
    {
     "data": {
      "text/plain": "Map:   0%|          | 0/42404 [00:00<?, ? examples/s]",
      "application/vnd.jupyter.widget-view+json": {
       "version_major": 2,
       "version_minor": 0,
       "model_id": "7f58a746b44540f9a866c5d07509a44d"
      }
     },
     "metadata": {},
     "output_type": "display_data"
    },
    {
     "name": "stderr",
     "output_type": "stream",
     "text": [
      "100%|██████████| 42404/42404 [00:53<00:00, 785.61it/s]\n"
     ]
    },
    {
     "data": {
      "text/plain": "Map:   0%|          | 0/3811 [00:00<?, ? examples/s]",
      "application/vnd.jupyter.widget-view+json": {
       "version_major": 2,
       "version_minor": 0,
       "model_id": "b49e8baac8f5428ab5fddc3888af8f46"
      }
     },
     "metadata": {},
     "output_type": "display_data"
    },
    {
     "name": "stderr",
     "output_type": "stream",
     "text": [
      "100%|██████████| 3811/3811 [00:04<00:00, 794.91it/s]\n"
     ]
    },
    {
     "data": {
      "text/plain": "Map:   0%|          | 0/1975 [00:00<?, ? examples/s]",
      "application/vnd.jupyter.widget-view+json": {
       "version_major": 2,
       "version_minor": 0,
       "model_id": "67036f70f99a44abb21bfb06f386f654"
      }
     },
     "metadata": {},
     "output_type": "display_data"
    },
    {
     "name": "stderr",
     "output_type": "stream",
     "text": [
      "100%|██████████| 1975/1975 [00:02<00:00, 787.76it/s]\n"
     ]
    },
    {
     "data": {
      "text/plain": "Map:   0%|          | 0/1810 [00:00<?, ? examples/s]",
      "application/vnd.jupyter.widget-view+json": {
       "version_major": 2,
       "version_minor": 0,
       "model_id": "56f9f4e4d7d5471c9d10b1dfb73fbcdb"
      }
     },
     "metadata": {},
     "output_type": "display_data"
    },
    {
     "name": "stderr",
     "output_type": "stream",
     "text": [
      "100%|██████████| 1810/1810 [00:02<00:00, 766.86it/s]\n"
     ]
    }
   ],
   "source": [
    "save_jsonl_root = \"/mnt/n/data/coco_2014_grounding\"\n",
    "for key in ds.keys():\n",
    "    dataset = ds[key]\n",
    "    if dataset is not None and preprocess_func is not None:\n",
    "        dataset = preprocess_func(dataset)\n",
    "    if dataset is not None and (streaming or len(dataset) > 0) and remove_useless_columns:\n",
    "        dataset = _remove_useless_columns(dataset)\n",
    "    save_file = f\"{save_jsonl_root}/{key}_grounding.jsonl\"\n",
    "    with open(save_file, \"w\", encoding=\"utf-8\") as f1:\n",
    "        for row_data in tqdm(dataset):\n",
    "            image_path = row_data[\"images\"][0]\n",
    "            new_image_path = f\"{save_jsonl_root}/train2014/{os.path.basename(image_path)}\"\n",
    "            if not os.path.exists(new_image_path):\n",
    "                shutil.copy(image_path, new_image_path)\n",
    "            row_data[\"images\"] = [new_image_path]\n",
    "            f1.write(json.dumps(row_data, ensure_ascii=False) + \"\\n\")\n",
    "\n"
   ],
   "metadata": {
    "collapsed": false
   }
  },
  {
   "cell_type": "code",
   "execution_count": null,
   "outputs": [],
   "source": [],
   "metadata": {
    "collapsed": false,
    "pycharm": {
     "name": "#%%row\n"
    }
   }
  }
 ],
 "metadata": {
  "kernelspec": {
   "display_name": "Python 3",
   "language": "python",
   "name": "python3"
  },
  "language_info": {
   "codemirror_mode": {
    "name": "ipython",
    "version": 2
   },
   "file_extension": ".py",
   "mimetype": "text/x-python",
   "name": "python",
   "nbconvert_exporter": "python",
   "pygments_lexer": "ipython2",
   "version": "2.7.6"
  }
 },
 "nbformat": 4,
 "nbformat_minor": 0
}
