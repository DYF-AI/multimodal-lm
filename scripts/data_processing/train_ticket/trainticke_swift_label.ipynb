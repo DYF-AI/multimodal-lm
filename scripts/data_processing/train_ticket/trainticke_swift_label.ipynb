{
 "cells": [
  {
   "cell_type": "code",
   "execution_count": 1,
   "metadata": {
    "collapsed": true
   },
   "outputs": [],
   "source": [
    "import os\n",
    "import sys\n",
    "import json\n",
    "import yaml\n",
    "import pickle\n",
    "from tqdm import tqdm\n",
    "sys.path.append(\"../../../\")\n",
    "from mllm.utils import (mapping_dict_keys,\n",
    "                        json2tokenV2,\n",
    "                        token2jsonV2,\n",
    "                        load_jsonl_file,\n",
    "                        random_select_list,\n",
    "                        save_jsonl_file)"
   ]
  },
  {
   "cell_type": "code",
   "execution_count": 2,
   "outputs": [],
   "source": [
    "label_files = [\n",
    "    \"/mnt/n/data/mllm-data/mllm-finetune-data/trainticket/metadata.jsonl\",\n",
    "]\n",
    "\n",
    "\n",
    "field_mapping = {\n",
    "    \"starting_station\": \"起始站\",\n",
    "    \"destination_station\": \"终点站\",\n",
    "    \"seat_category\": \"座位等级\",\n",
    "    \"ticket_rates\": \"票据价格\",\n",
    "    \"ticket_num\": \"票据号码\",\n",
    "    \"train_num\": \"车次\",\n",
    "    \"date\": \"出发日期\",\n",
    "    \"name\": \"姓名\"\n",
    "}"
   ],
   "metadata": {
    "collapsed": false
   }
  },
  {
   "cell_type": "code",
   "execution_count": 3,
   "outputs": [
    {
     "name": "stderr",
     "output_type": "stream",
     "text": [
      "100%|██████████| 1/1 [00:08<00:00,  8.16s/it]"
     ]
    },
    {
     "name": "stdout",
     "output_type": "stream",
     "text": [
      "/mnt/n/data/mllm-data/mllm-finetune-data/trainticket/swift_label/metadata_train.jsonl\n",
      "/mnt/n/data/mllm-data/mllm-finetune-data/trainticket/swift_label/metadata_val.jsonl\n",
      "/mnt/n/data/mllm-data/mllm-finetune-data/trainticket/swift_label/metadata_test.jsonl\n"
     ]
    },
    {
     "name": "stderr",
     "output_type": "stream",
     "text": [
      "\n"
     ]
    }
   ],
   "source": [
    "def convert_swift_data(ex_data, image_path, query):\n",
    "    new_ex_data = {}\n",
    "    for k, v in ex_data.items():\n",
    "        new_k = field_mapping[k]\n",
    "        new_ex_data[new_k] = v\n",
    "\n",
    "    json_str = json2tokenV2(new_ex_data)\n",
    "    row_swift_data = {\n",
    "        \"query\": query,\n",
    "        \"response\": json_str,\n",
    "        \"image_path\": [image_path]\n",
    "    }\n",
    "    return row_swift_data\n",
    "\n",
    "DATA_ROOT = '/mnt/n/data/mllm-data/mllm-finetune-data/trainticket'\n",
    "\n",
    "def convert(convert_task_list:list, data_root=\"/mnt/\"):\n",
    "    for label_file_path in tqdm(convert_task_list):\n",
    "        save_label_folder = os.path.join(os.path.dirname(label_file_path), \"swift_label\")\n",
    "        label_file_name = os.path.splitext(os.path.basename(label_file_path))[0]\n",
    "        if not os.path.exists(save_label_folder):\n",
    "            os.makedirs(save_label_folder)\n",
    "        ori_label_data = load_jsonl_file(label_file_path)\n",
    "        train_data, val_data, test_data = [], [], []\n",
    "        for row_data in ori_label_data:\n",
    "            #print(row_data)\n",
    "            usage = row_data[\"数据用途\"]\n",
    "            if usage == \"训练\":\n",
    "                DATA_ROOT_TRAIN = '/mnt/n/data/mllm-data/mllm-finetune-data/trainticket/train/hcp_aug_2/'\n",
    "                file_name = os.path.basename(row_data['图片路径'])\n",
    "                image_path = os.path.join(DATA_ROOT_TRAIN, file_name)\n",
    "            else:\n",
    "                image_path = os.path.join(DATA_ROOT, row_data['图片路径'])\n",
    "            if not os.path.exists(image_path):\n",
    "                print(f\"image_path:{image_path} not exist, continue!\")\n",
    "                continue\n",
    "            ex_data = json.loads(row_data[\"抽取结果\"])\n",
    "            prompt = \"请抽取火车票中的起始站、终点站、座位等级、票据价格、票据号码、出发日期、车次及姓名等字段\"\n",
    "            converted_data = convert_swift_data(ex_data, image_path, prompt)\n",
    "            if usage == \"训练\":\n",
    "                train_data.append(converted_data)\n",
    "            elif usage == \"验证\":\n",
    "                val_data.append(converted_data)\n",
    "            else:\n",
    "                test_data.append(converted_data)\n",
    "        if len(val_data) <= 300:\n",
    "            select_val_data = random_select_list(test_data, min(300-len(val_data), len(test_data)))\n",
    "            val_data.extend(select_val_data)\n",
    "        else:\n",
    "            val_data = val_data[:300]\n",
    "\n",
    "        for (save_data, save_path) in zip([train_data, val_data, test_data],\n",
    "                                          [f\"{save_label_folder}/{label_file_name}_train.jsonl\",\n",
    "                                           f\"{save_label_folder}/{label_file_name}_val.jsonl\",\n",
    "                                           f\"{save_label_folder}/{label_file_name}_test.jsonl\"]):\n",
    "            print(save_path)\n",
    "            save_jsonl_file(save_data, save_path)\n",
    "            # with open(save_path, \"w\", encoding=\"utf-8\") as fo:\n",
    "            #     for row_data in save_data:\n",
    "            #         fo.write(json.dumps(row_data, ensure_ascii=False) + \"\\n\")\n",
    "\n",
    "convert(label_files)"
   ],
   "metadata": {
    "collapsed": false
   }
  },
  {
   "cell_type": "code",
   "execution_count": 4,
   "outputs": [
    {
     "data": {
      "text/plain": "('output_10/images_0/hcp_2061',\n {'starting_station': '北京南站',\n  'destination_station': '济南西站',\n  'seat_category': '新空调硬座',\n  'ticket_rates': '¥353.5元',\n  'ticket_num': 'H6978778',\n  'date': '2018年01月17日',\n  'train_num': 'G13',\n  'name': '林玉霜'})"
     },
     "execution_count": 4,
     "metadata": {},
     "output_type": "execute_result"
    }
   ],
   "source": [
    "synth_label_1 = \"/mnt/n/data/mllm-data/mllm-finetune-data/trainticket/real_1920.pkl\"\n",
    "synth_label_2 = \"/mnt/n/data/mllm-data/mllm-finetune-data/trainticket/synth_300k.pkl\"\n",
    "with open(synth_label_1, 'rb') as fi:\n",
    "    synth_data_1 = pickle.load(fi)\n",
    "with open(synth_label_2, 'rb') as fi:\n",
    "    synth_data_2 = pickle.load(fi)\n",
    "list(synth_data_2.keys())[0], synth_data_2[list(synth_data_2.keys())[0]]"
   ],
   "metadata": {
    "collapsed": false
   }
  },
  {
   "cell_type": "code",
   "execution_count": 5,
   "outputs": [],
   "source": [
    "a = list(set(list(synth_data_1.keys())) & set(list(synth_data_2.keys())))"
   ],
   "metadata": {
    "collapsed": false
   }
  },
  {
   "cell_type": "code",
   "execution_count": 6,
   "outputs": [],
   "source": [
    "# 合成数据单独处理\n",
    "DATA_ROOT_SYNTH = \"/mnt/n/data/mllm-data/mllm-finetune-data/trainticket/train\"\n",
    "save_synth_swift_label = \"/mnt/n/data/mllm-data/mllm-finetune-data/trainticket/swift_label/metadata_train_synth_300k.txt\"\n",
    "def convert_synth(synth_data:dict, data_root=\"/mnt/\"):\n",
    "    train_data = []\n",
    "    for file_name, ex_data in synth_data.items():\n",
    "        #print(row_data)\n",
    "        image_path = f\"{DATA_ROOT_SYNTH}/{file_name}.jpg\"\n",
    "        if not os.path.exists(image_path):\n",
    "            print(f\"image_path:{image_path} not exist, continue!\")\n",
    "            continue\n",
    "        prompt = \"请抽取火车票中的起始站、终点站、座位等级、票据价格、票据号码、出发日期、车次及姓名等字段\"\n",
    "        converted_data = convert_swift_data(ex_data, image_path, prompt)\n",
    "        train_data.append(converted_data)\n",
    "    save_jsonl_file(train_data, save_synth_swift_label)\n",
    "convert_synth(synth_data_2)"
   ],
   "metadata": {
    "collapsed": false
   }
  },
  {
   "cell_type": "code",
   "execution_count": null,
   "outputs": [],
   "source": [],
   "metadata": {
    "collapsed": false
   }
  },
  {
   "cell_type": "code",
   "execution_count": 35,
   "outputs": [],
   "source": [],
   "metadata": {
    "collapsed": false
   }
  },
  {
   "cell_type": "code",
   "execution_count": 8,
   "outputs": [],
   "source": [],
   "metadata": {
    "collapsed": false
   }
  },
  {
   "cell_type": "code",
   "execution_count": 34,
   "outputs": [],
   "source": [],
   "metadata": {
    "collapsed": false
   }
  },
  {
   "cell_type": "code",
   "execution_count": 35,
   "outputs": [],
   "source": [],
   "metadata": {
    "collapsed": false
   }
  },
  {
   "cell_type": "code",
   "execution_count": 10,
   "outputs": [],
   "source": [],
   "metadata": {
    "collapsed": false
   }
  },
  {
   "cell_type": "code",
   "execution_count": 35,
   "outputs": [],
   "source": [],
   "metadata": {
    "collapsed": false
   }
  },
  {
   "cell_type": "code",
   "execution_count": 35,
   "outputs": [],
   "source": [],
   "metadata": {
    "collapsed": false
   }
  },
  {
   "cell_type": "code",
   "execution_count": null,
   "outputs": [],
   "source": [],
   "metadata": {
    "collapsed": false
   }
  },
  {
   "cell_type": "code",
   "execution_count": 12,
   "outputs": [],
   "source": [],
   "metadata": {
    "collapsed": false
   }
  }
 ],
 "metadata": {
  "kernelspec": {
   "display_name": "Python 3",
   "language": "python",
   "name": "python3"
  },
  "language_info": {
   "codemirror_mode": {
    "name": "ipython",
    "version": 2
   },
   "file_extension": ".py",
   "mimetype": "text/x-python",
   "name": "python",
   "nbconvert_exporter": "python",
   "pygments_lexer": "ipython2",
   "version": "2.7.6"
  }
 },
 "nbformat": 4,
 "nbformat_minor": 0
}
